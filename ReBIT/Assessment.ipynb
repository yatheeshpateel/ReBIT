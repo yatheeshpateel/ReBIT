{
 "cells": [
  {
   "cell_type": "markdown",
   "id": "e13c8484-f16b-48c7-9b18-0a03619d9226",
   "metadata": {},
   "source": [
    "## Question 1\n",
    "#### Define a class called Vehicle. Include attributes like make, model, and year. Add an initialization method to set these attributes\n",
    "## Question 2\n",
    "#### Add a method called display_info to the Vehicle class that prints out the vehicle’s information in a nicely formatted string.\n"
   ]
  },
  {
   "cell_type": "code",
   "execution_count": null,
   "id": "308b6f78-9713-4e26-b042-f9d638b2fc4d",
   "metadata": {},
   "outputs": [],
   "source": [
    "class Vehicle:\n",
    "    def __init__(self,make,model,year):\n",
    "        self.make = make\n",
    "        self.model = model\n",
    "        self.year = year\n",
    "        \n",
    "\n",
    "    def d(self):\n",
    "        return f\"vehicles information\\n make: {self.make}\\n model : {self.model}\\n year :{self.year}\"\n",
    "\n",
    "make = input(\"enter the making information\")\n",
    "model = input(\"enter the model\")\n",
    "year = input(\"enter the year\")\n",
    "\n",
    "res = Vehicle(make,model,year)\n",
    "print(res.d())"
   ]
  },
  {
   "cell_type": "markdown",
   "id": "dde8a0b5-5030-4579-928f-e836ddbfe2d8",
   "metadata": {},
   "source": [
    "## Question 3\n",
    "#### Create a subclass of Vehicle called Car that includes additional attributes like doors and engine_type. Override the display_info method to include these new attributes.\n",
    "## Question 4\n",
    "#### Write a method in the Car class to start_engine. This method should print a message that says the engine is starting, using the engine_type in the message."
   ]
  },
  {
   "cell_type": "code",
   "execution_count": 54,
   "id": "f9f2e642-eed1-4049-893e-fe7dc30c5026",
   "metadata": {},
   "outputs": [
    {
     "name": "stdin",
     "output_type": "stream",
     "text": [
      "enter the making information Honda \n",
      "enter the model civic\n",
      "enter the year 2023\n",
      "Enter the number of doors:  4\n",
      "Enter the engine type:  petrol\n"
     ]
    },
    {
     "name": "stdout",
     "output_type": "stream",
     "text": [
      "vehicles information\n",
      " make: Honda \n",
      " model : civic\n",
      " year :2023\n",
      "Doors: 4\n",
      "Engine Type: petrol\n",
      "The petrol engine is starting...\n"
     ]
    }
   ],
   "source": [
    "\n",
    "class Car(Vehicle):\n",
    "    def __init__(self, make, model, year, doors, engine_type):\n",
    "        super().__init__(make, model, year)\n",
    "        self.doors = doors\n",
    "        self.engine_type = engine_type\n",
    "\n",
    "    def d(self):\n",
    "        return (f\"{super().d()}\\nDoors: {self.doors}\\nEngine Type: {self.engine_type}\")\n",
    "        \n",
    "# Question 4\n",
    "# Write a method in the Car class to start_engine. This method should print a message that says the engine is starting, using the engine_type in the message.\n",
    "    \n",
    "    def start_engine(self):\n",
    "        print(f\"The {self.engine_type} engine is starting\")\n",
    "\n",
    "\n",
    "make = input(\"enter the making information\")\n",
    "model = input(\"enter the model\")\n",
    "year = input(\"enter the year\")\n",
    "doors = input(\"Enter the number of doors: \")\n",
    "engine_type = input(\"Enter the engine type: \")\n",
    "c = Car(make, model, year, doors, engine_type)\n",
    "print(c.d())\n",
    "c.start_engine()\n"
   ]
  },
  {
   "cell_type": "markdown",
   "id": "9df4038f-5256-473b-afa1-9bff80239399",
   "metadata": {},
   "source": [
    "## Question 5\n",
    "#### Implement a Bicycle subclass that inherits from Vehicle. Include additional attributes such as gear_count and bicycle_type."
   ]
  },
  {
   "cell_type": "code",
   "execution_count": 58,
   "id": "0144dae8-ab80-4cd6-978e-8ec1f9499af3",
   "metadata": {},
   "outputs": [],
   "source": [
    "class Bicycle(Vehicle):\n",
    "    def __init__(self,make,model,year,gear_count,bicycle_type):\n",
    "        super().__init__(make,model,year)\n",
    "        self.gear_count = gear_count\n",
    "        self.bicycle_type = bicycle_type\n",
    "\n"
   ]
  },
  {
   "cell_type": "markdown",
   "id": "a9ded7a7-2e99-4dbd-bf2a-033cbd2aa5d9",
   "metadata": {},
   "source": [
    "# Question 6\n",
    "# Create a Python class Circle. Use the __init__ method to set the radius and a method to calculate the area (use pi value from the math module)."
   ]
  },
  {
   "cell_type": "code",
   "execution_count": 68,
   "id": "bfacc4b4-7e65-4fa8-af39-42b0680c11d0",
   "metadata": {},
   "outputs": [
    {
     "name": "stdin",
     "output_type": "stream",
     "text": [
      "enter the radius of circle 232\n"
     ]
    },
    {
     "data": {
      "text/plain": [
       "'the area of the circle is 169093.08298681703'"
      ]
     },
     "execution_count": 68,
     "metadata": {},
     "output_type": "execute_result"
    }
   ],
   "source": [
    "import math\n",
    "class Circle:\n",
    "    def __init__(self,r):\n",
    "        self.r = r\n",
    "\n",
    "    def calculate(self):\n",
    "        return f\"the area of the circle is {math.pi * self.r ** 2}\" \n",
    "r = float(input(\"enter the radius of circle\"))\n",
    "c = Circle(r)\n",
    "c.calculate()"
   ]
  },
  {
   "cell_type": "markdown",
   "id": "a5438387-bfa0-420c-b2b6-6613ea93bb55",
   "metadata": {},
   "source": [
    "## Question 7\n",
    "### Define a class Rectangle with attributes length and width. Include methods to calculate the area and perimeter."
   ]
  },
  {
   "cell_type": "code",
   "execution_count": 80,
   "id": "c37e387e-7921-49de-ac04-6790b393f39a",
   "metadata": {},
   "outputs": [
    {
     "name": "stdin",
     "output_type": "stream",
     "text": [
      "length 2\n",
      "width 2\n"
     ]
    },
    {
     "name": "stdout",
     "output_type": "stream",
     "text": [
      "the area of a rectangle is 4\n",
      "the perimeter of a rectangle is 8\n"
     ]
    }
   ],
   "source": [
    "class Rectangle():\n",
    "    def __init__(self,l,w):\n",
    "        self.l = l\n",
    "        self.w = w\n",
    "    def area(self):\n",
    "        return f\"the area of a rectangle is {self.l * self.w}\"\n",
    "\n",
    "    def perimeter(self):\n",
    "        return f\"the perimeter of a rectangle is {2 *(self.l + self.w)}\"\n",
    "\n",
    "l = int(input(\"length\"))\n",
    "w = int(input(\"width\"))\n",
    "r = Rectangle(l,w)\n",
    "print(r.area())\n",
    "print(r.perimeter())"
   ]
  },
  {
   "cell_type": "markdown",
   "id": "a12182dd-7ba7-4594-87a7-a2a766cecf5b",
   "metadata": {},
   "source": [
    "# Question 8 & 9\n",
    "## Create a class Employee with properties name and employee_id. Include a method to print an email address, assuming it's employee_id@company.com. Extend the Employee class with a subclass Manager that has an additional attribute department and a method to print department details.\n"
   ]
  },
  {
   "cell_type": "code",
   "execution_count": 125,
   "id": "ae6de913-9be4-44c7-8a48-8a8953a5181f",
   "metadata": {},
   "outputs": [
    {
     "name": "stdin",
     "output_type": "stream",
     "text": [
      "enter the name yathi\n",
      "enter the id 23123\n"
     ]
    },
    {
     "name": "stdout",
     "output_type": "stream",
     "text": [
      "23123@ReBIT.com\n"
     ]
    },
    {
     "name": "stdin",
     "output_type": "stream",
     "text": [
      "enter the dprt cse\n"
     ]
    },
    {
     "data": {
      "text/plain": [
       "'department details :cse'"
      ]
     },
     "execution_count": 125,
     "metadata": {},
     "output_type": "execute_result"
    }
   ],
   "source": [
    "class Employee:\n",
    "    def __init__(self,name,eid):\n",
    "        self.name = name\n",
    "        self.eid = eid\n",
    "\n",
    "    def email(slef):\n",
    "        return f\"{eid}@ReBIT.com\"\n",
    "class Manager(Employee):\n",
    "    def __init__(self,name,eid,dept):\n",
    "        super().__init__(name,eid)\n",
    "        self.dept = dept\n",
    "\n",
    "    def deptdetails(self):\n",
    "        return f\"department details :{self.dept}\"\n",
    "\n",
    "name = input(\"enter the name\")\n",
    "eid = input(\"enter the id\")\n",
    "e = Employee(name,eid)\n",
    "print(e.email())\n",
    "dept = input(\"enter the dprt\")\n",
    "m = Manager(name,eid,dept)\n",
    "m.deptdetails()"
   ]
  },
  {
   "cell_type": "markdown",
   "id": "990f4ace-b818-4d2b-b36e-64b08064eeef",
   "metadata": {},
   "source": [
    "## Question 10\n",
    "#### Define a class ComplexNumber to represent complex numbers. Include methods to add and multiply two complex numbers."
   ]
  },
  {
   "cell_type": "code",
   "execution_count": 64,
   "id": "b305b126-b271-4663-aba8-237937c2481c",
   "metadata": {},
   "outputs": [
    {
     "name": "stdout",
     "output_type": "stream",
     "text": [
      "sum result : 4 + 6i\n",
      "Multiplication result : -5 + 10i\n"
     ]
    }
   ],
   "source": [
    "class ComplexNumber:\n",
    "    \n",
    "    def __init__(self,real, imaginary):\n",
    "        self.real = real \n",
    "        self.imaginary = imaginary \n",
    "        \n",
    "    def __add__(self,other):\n",
    "        return ComplexNumber(self.real + other.real, self.imaginary + other.imaginary)\n",
    "    \n",
    "    def __mul__(self,other):\n",
    "        real_part = self.real * other.real - self.imaginary * other.imaginary\n",
    "        imag_part = self.real * other.imaginary + self.imaginary * other.real\n",
    "        return ComplexNumber(real_part, imag_part)\n",
    "    \n",
    "    def __str__(self):\n",
    "        return f\"{self.real} + {self.imaginary}i\" if self.imaginary >= 0 else f\"{self.real} - {-self.imaginary}i\"\n",
    "\n",
    "comp1 = ComplexNumber(3,4)\n",
    "comp2 = ComplexNumber(1,2)\n",
    "sum_result = comp1 + comp2\n",
    "print(f\"sum result : {sum_result}\")\n",
    "multi_result = comp1 * comp2 \n",
    "print(f\"Multiplication result : {multi_result}\")"
   ]
  },
  {
   "cell_type": "markdown",
   "id": "4a6d86af-0ce5-41ae-8085-6abb8e765236",
   "metadata": {},
   "source": [
    "## Question 11\n",
    "#### Create a class Book with attributes title, author, and price. Add a method to apply a discount to the price and another to format the book details as a string."
   ]
  },
  {
   "cell_type": "code",
   "execution_count": 71,
   "id": "f064c3f1-50a2-47b8-84f7-aec1702829b7",
   "metadata": {},
   "outputs": [
    {
     "name": "stdin",
     "output_type": "stream",
     "text": [
      "Enter the book title:  RAMAYANA\n",
      "Enter the author's name:  VALMIKI\n",
      "Enter the book price:  1000\n",
      "Enter the discount percentage:  10\n"
     ]
    },
    {
     "name": "stdout",
     "output_type": "stream",
     "text": [
      "Title: RAMAYANA, Author: VALMIKI, Price: 900.0\n"
     ]
    }
   ],
   "source": [
    "\n",
    "class Book:\n",
    "    def __init__(self, title, author, price):\n",
    "        self.title = title\n",
    "        self.author = author\n",
    "        self.price = price\n",
    "\n",
    "    def apply_discount(self, percentage):\n",
    "        self.price -= self.price * (percentage / 100)\n",
    "\n",
    "    def display(self):\n",
    "        print(f\"Title: {self.title}, Author: {self.author}, Price: {self.price}\")\n",
    "\n",
    "# Inputs for book details\n",
    "title = input(\"Enter the book title: \")\n",
    "author = input(\"Enter the author's name: \")\n",
    "price = float(input(\"Enter the book price: \"))\n",
    "\n",
    "# Creating a Book object\n",
    "book = Book(title, author, price)\n",
    "\n",
    "# Apply discount\n",
    "discount = float(input(\"Enter the discount percentage: \"))\n",
    "book.apply_discount(discount)\n",
    "\n",
    "# Display book details\n",
    "book.display()\n"
   ]
  },
  {
   "cell_type": "markdown",
   "id": "ea2fac1c-d086-475b-91a4-cd559e6b1f19",
   "metadata": {},
   "source": [
    "## Question 12 \n",
    "Implement a class Flight that can keep track of airline, flight number, and the list of passengers (use passenger names).\r\n"
   ]
  },
  {
   "cell_type": "code",
   "execution_count": 73,
   "id": "f129da7b-c7e6-4ced-a14c-2eff87edecc8",
   "metadata": {},
   "outputs": [
    {
     "name": "stdout",
     "output_type": "stream",
     "text": [
      "Airline : KINGFISHER\n",
      "Flight Number : KF-5511\n"
     ]
    }
   ],
   "source": [
    " class Flight:\n",
    "    \n",
    "    def __init__(self,airline,flight_number):\n",
    "        self.airline = airline \n",
    "        self.flight_number = flight_number\n",
    "        self.passanger = []\n",
    "    \n",
    "    def __str__(self):\n",
    "        return f\"Airline : {self.airline}\\nFlight Number : {self.flight_number}\"\n",
    "    \n",
    "\n",
    "flg = Flight('KINGFISHER',\"KF-5511\")\n",
    "print(flg)"
   ]
  },
  {
   "cell_type": "code",
   "execution_count": 78,
   "id": "94b36693-8708-4570-b0d5-b5ebe375a472",
   "metadata": {},
   "outputs": [
    {
     "name": "stdout",
     "output_type": "stream",
     "text": [
      "Airline : Air India\n",
      "Flight Number : AI-5511\n",
      "No Passanger\n",
      "\n",
      "\n",
      "List of passanger\n",
      "yatheesh\n",
      "abhi\n",
      "sujay\n",
      "darshan\n",
      "Success\n",
      "\n",
      "\n",
      "List of passanger\n",
      "yatheesh\n",
      "abhi\n",
      "sujay\n",
      "Success\n"
     ]
    }
   ],
   "source": [
    "class Flight:\n",
    "    \n",
    "    def __init__(self,airline,flight_number):\n",
    "        self.airline = airline \n",
    "        self.flight_number = flight_number\n",
    "        self.passanger = []\n",
    "        \n",
    "    def add_passanger(self,name):\n",
    "        if name not in self.passanger:\n",
    "            self.passanger.append(name)\n",
    "            return \"Passanger added successfully\"\n",
    "            \n",
    "    def remove_passanger(self,name):\n",
    "        if name in self.passanger:\n",
    "            self.passanger.remove(name)\n",
    "        else:\n",
    "            return \"Passanger removed successfully\"\n",
    "        \n",
    "    def get_passanger(self):\n",
    "        \n",
    "        if len(self.passanger) == 0:\n",
    "            return \"No Passanger\"\n",
    "        else:\n",
    "            print(\"List of passanger\")\n",
    "            for names in self.passanger:\n",
    "                print(names)\n",
    "            return \"Success\"\n",
    "    def __str__(self):\n",
    "        return f\"Airline : {self.airline}\\nFlight Number : {self.flight_number}\"\n",
    "    \n",
    "# object \n",
    "flg = Flight('Air India',\"AI-5511\")\n",
    "print(flg)\n",
    " # get passanger0\n",
    "print(flg.get_passanger())\n",
    "print()\n",
    " # add passanger\n",
    "flg.add_passanger(\"yatheesh\")\n",
    "flg.add_passanger(\"abhi\")\n",
    "flg.add_passanger(\"sujay\")\n",
    "flg.add_passanger(\"darshan\")\n",
    "print()\n",
    " # get passanger \n",
    "print(flg.get_passanger())\n",
    "print()\n",
    " # remove passanger\n",
    "flg.remove_passanger(\"darshan\")\n",
    "print()\n",
    " # get passanger\n",
    "print(flg.get_passanger())\n"
   ]
  },
  {
   "cell_type": "markdown",
   "id": "9357864d-2f38-47fd-9fb1-517a121a0fa0",
   "metadata": {},
   "source": [
    "## Question 14\n",
    "#### Create a class Animal with an attribute species. Add a method make_sound that prints a generic sound.\n",
    "#### Question 15\n",
    "#### Subclass Animal with Dog and Cat classes. Override the make_sound method to print \"Woof\" for dogs and \"Meow\" for cats."
   ]
  },
  {
   "cell_type": "code",
   "execution_count": 6,
   "id": "957fe663-b363-4b04-a25d-32833dcb4f82",
   "metadata": {},
   "outputs": [
    {
     "name": "stdin",
     "output_type": "stream",
     "text": [
      "enter the animal cat\n"
     ]
    },
    {
     "name": "stdout",
     "output_type": "stream",
     "text": [
      "meow\n"
     ]
    }
   ],
   "source": [
    "class Animal:\n",
    "    def __init__(self,species):\n",
    "        self.species = species\n",
    "\n",
    "    def make_sound(self):\n",
    "        print(\"animal sounds\")\n",
    "\n",
    "class Dog(Animal):\n",
    "    def make_sound(self):\n",
    "        print(\"bow\")\n",
    "class Cat(Animal):\n",
    "    def make_sound(self):\n",
    "        print(\"meow\")\n",
    "\n",
    "animal = input(\"enter the animal\").strip()\n",
    "\n",
    "if animal.lower() == \"dog\":\n",
    "    d = Dog(\"Dog\")\n",
    "    d.make_sound()\n",
    "elif animal.lower() == \"cat\":\n",
    "    c = Cat(\"Cat\")\n",
    "    c.make_sound()\n",
    "else:\n",
    "    print(\"unknown animal type\")\n",
    "    "
   ]
  },
  {
   "cell_type": "markdown",
   "id": "cb98b94c-409a-4d35-96a2-83f6cf886447",
   "metadata": {},
   "source": [
    "## Question 16\n",
    "#### Develop a class Calculator with methods for basic operations: add, subtract, multiply, and divide. Handle division by zero gracefully."
   ]
  },
  {
   "cell_type": "code",
   "execution_count": 30,
   "id": "0803e15b-5600-4f57-8a54-4e804598c600",
   "metadata": {},
   "outputs": [
    {
     "name": "stdin",
     "output_type": "stream",
     "text": [
      "enter a number 1\n",
      "enter a number 2\n",
      "enter the operation add\n"
     ]
    },
    {
     "name": "stdout",
     "output_type": "stream",
     "text": [
      "Result:  3\n"
     ]
    }
   ],
   "source": [
    "class Calculator:\n",
    "    def add(self,a,b):\n",
    "        return a+b\n",
    "    def sub(self,a,b):\n",
    "        return a-b\n",
    "    def mul(self,a,b):\n",
    "        return a*b\n",
    "    def div(self,a,b):\n",
    "        if b != 0:\n",
    "            return a/b\n",
    "        else:\n",
    "            return \"Error: Division by zero\"\n",
    "a = int(input(\"enter a number\"))\n",
    "b = int(input(\"enter a number\"))\n",
    "c = Calculator()\n",
    "operation = input(\"enter the operation\")\n",
    "if operation == \"add\":\n",
    "    print(\"Result: \",c.add(a,b))\n",
    "elif operation == \"sub\":\n",
    "    print(\"Result: \",c.sub(a,b))\n",
    "elif operation == \"mul\":\n",
    "    print(\"Result: \",c.mul(a,b))\n",
    "elif operation == \"div\":\n",
    "    print(\"Result: \",c.div(a,b)) \n",
    "else:\n",
    "    print(\"invalid\")\n",
    "            "
   ]
  },
  {
   "cell_type": "markdown",
   "id": "9f6a337f-09ef-42da-9df0-65ca76a834ea",
   "metadata": {},
   "source": [
    "## Question 17\n",
    "#### Create a class WeatherForecast that has a method to add a temperature reading and another method to get the average temperature."
   ]
  },
  {
   "cell_type": "code",
   "execution_count": 26,
   "id": "f643c609-b718-408c-ac75-a78cd9cc3012",
   "metadata": {},
   "outputs": [
    {
     "name": "stdin",
     "output_type": "stream",
     "text": [
      "Enter a temperature (or 'done' to finish):  2323\n",
      "Enter a temperature (or 'done' to finish):  2323\n",
      "Enter a temperature (or 'done' to finish):  done\n"
     ]
    },
    {
     "name": "stdout",
     "output_type": "stream",
     "text": [
      "2323.0\n"
     ]
    }
   ],
   "source": [
    "class WeatherForecast:\n",
    "    def __init__(self):\n",
    "        self.temp = []\n",
    "\n",
    "    def add_temp(self,tempr):\n",
    "        self.temp.append(tempr)\n",
    "\n",
    "    def avg(self):\n",
    "        if self.temp:\n",
    "            return  sum(self.temp) / len(self.temp)\n",
    "        else:\n",
    "            return \"no temperature recorded \"\n",
    "\n",
    "t = WeatherForecast()\n",
    "while True:\n",
    "    tempr = input(\"Enter a temperature (or 'done' to finish): \")\n",
    "    if tempr.lower() == 'done':\n",
    "        break\n",
    "    t.add_temp(float(tempr))\n",
    "print(t.avg())\n",
    "        "
   ]
  },
  {
   "cell_type": "markdown",
   "id": "cdd0a4bc-f9d3-4c0c-857a-04d67e03d9f9",
   "metadata": {},
   "source": [
    "## Question 18\n",
    "#### Define a Polygon class with methods to calculate perimeter and area. This class should be designed to be subclassed by specific polygon types like triangles and squares."
   ]
  },
  {
   "cell_type": "code",
   "execution_count": 6,
   "id": "7ee1f65a-c6c6-4d8f-bad1-7b2a1009da99",
   "metadata": {},
   "outputs": [],
   "source": [
    "class Polygon:\n",
    "    def __init__(self,*args):\n",
    "        self.args = args\n",
    "\n",
    "    def Perimeter(self):\n",
    "        pass\n",
    "\n",
    "    def area(self):\n",
    "        pass"
   ]
  },
  {
   "cell_type": "markdown",
   "id": "28df8f6d-8d8d-4a23-a7ae-89c936957d4c",
   "metadata": {},
   "source": [
    "## Question 19\n",
    "#### Implement a subclass of Polygon for Triangle. Use attributes for the sides and appropriate methods to compute area (using Heron's formula).\n"
   ]
  },
  {
   "cell_type": "code",
   "execution_count": 11,
   "id": "5fe67a3c-acdf-4409-9f42-de98e79263b0",
   "metadata": {},
   "outputs": [
    {
     "name": "stdin",
     "output_type": "stream",
     "text": [
      "Enter the first side of the triangle:  5\n",
      "Enter the second side of the triangle:  8\n",
      "Enter the third side of the triangle:  10\n"
     ]
    },
    {
     "name": "stdout",
     "output_type": "stream",
     "text": [
      "Perimeter of the triangle: 23.0\n",
      "Area of the triangle: 19.81\n"
     ]
    }
   ],
   "source": [
    "import math\n",
    "class Triangle(Polygon):\n",
    "    def __init__(self, a, b, c):\n",
    "        self.a = a\n",
    "        self.b = b\n",
    "        self.c = c\n",
    "\n",
    "    def perimeter(self):\n",
    "        return self.a + self.b + self.c\n",
    "\n",
    "    def area(self):\n",
    "        s = self.perimeter() / 2\n",
    "        return math.sqrt(s * (s - self.a) * (s - self.b) * (s - self.c))\n",
    "\n",
    "# Inputs for triangle sides\n",
    "a = float(input(\"Enter the first side of the triangle: \"))\n",
    "b = float(input(\"Enter the second side of the triangle: \"))\n",
    "c = float(input(\"Enter the third side of the triangle: \"))\n",
    "\n",
    "# Create Triangle object\n",
    "triangle = Triangle(a, b, c)\n",
    "\n",
    "print(f\"Perimeter of the triangle: {triangle.perimeter()}\")\n",
    "print(f\"Area of the triangle: {triangle.area():.2f}\")\n"
   ]
  },
  {
   "cell_type": "markdown",
   "id": "fcae9456-160c-4f66-b81f-d6ac883c43a7",
   "metadata": {},
   "source": [
    "### Question 20 \n",
    "Write a Square subclass of Polygon with a method override for area calculation specific to squares."
   ]
  },
  {
   "cell_type": "code",
   "execution_count": 20,
   "id": "689da600-657d-4ad5-84ff-4b6dd1352914",
   "metadata": {},
   "outputs": [
    {
     "name": "stdin",
     "output_type": "stream",
     "text": [
      "enter the side  25\n"
     ]
    },
    {
     "name": "stdout",
     "output_type": "stream",
     "text": [
      "Area of Square 625\n"
     ]
    }
   ],
   "source": [
    "class Square(Polygon):\n",
    "    \n",
    "    def __init__(self,side):\n",
    "        self.side = side \n",
    "        \n",
    "    def area(self):\n",
    "        ar = self.side * self.side \n",
    "        return f\"Area of Square {ar}\"\n",
    "    \n",
    "# object \n",
    "side = int(input(\"enter the side \"))\n",
    "obj1 = Square(side)\n",
    "print(obj1.area())"
   ]
  },
  {
   "cell_type": "markdown",
   "id": "ae3777bc-ad7b-4100-8018-c631bc9fd7e0",
   "metadata": {},
   "source": [
    "## Question 21\n",
    "#### Create a class Timer that can be used to time operations in Python. Use the time module for tracking start and end times."
   ]
  },
  {
   "cell_type": "code",
   "execution_count": 34,
   "id": "5b10f9db-7278-42b5-b4e3-f6492b37db51",
   "metadata": {},
   "outputs": [
    {
     "name": "stdin",
     "output_type": "stream",
     "text": [
      "Press Enter to start the timer... \n"
     ]
    },
    {
     "name": "stdout",
     "output_type": "stream",
     "text": [
      "Timer started...\n"
     ]
    },
    {
     "name": "stdin",
     "output_type": "stream",
     "text": [
      "Press Enter to stop the timer... \n"
     ]
    },
    {
     "name": "stdout",
     "output_type": "stream",
     "text": [
      "Timer stopped.\n",
      "Elapsed time: 1.3765590190887451 seconds\n"
     ]
    }
   ],
   "source": [
    "import time\n",
    "\n",
    "class Timer:\n",
    "    def __init__(self):\n",
    "        self.start_time = None\n",
    "        self.end_time = None\n",
    "\n",
    "    def start(self):\n",
    "        self.start_time = time.time()\n",
    "        print(\"Timer started...\")\n",
    "\n",
    "    def stop(self):\n",
    "        self.end_time = time.time()\n",
    "        print(\"Timer stopped.\")\n",
    "\n",
    "    def elapsed_time(self):\n",
    "        if self.start_time is not None and self.end_time is not None:\n",
    "            return self.end_time - self.start_time\n",
    "\n",
    "\n",
    "t = Timer()\n",
    "input(\"Press Enter to start the timer...\")\n",
    "t.start()\n",
    "\n",
    "input(\"Press Enter to stop the timer...\")\n",
    "t.stop()\n",
    "print(f\"Elapsed time: {t.elapsed_time()} seconds\")"
   ]
  },
  {
   "cell_type": "markdown",
   "id": "1f1e9f32-7794-4bbb-b2ed-b7d0f035822f",
   "metadata": {},
   "source": [
    "# Question 22 \n",
    "Design a Queue class using lists. Implement methods for enqueue, dequeue, and viewing the queue.\r\n"
   ]
  },
  {
   "cell_type": "code",
   "execution_count": 39,
   "id": "ea173d83-6a91-4396-af04-eebd9edcce1c",
   "metadata": {},
   "outputs": [
    {
     "name": "stdout",
     "output_type": "stream",
     "text": [
      "Empty list\n",
      "element 454 added successfully\n",
      "element 135 added successfully\n",
      "element 235 added successfully\n",
      "element 135 removed successfully\n",
      "element 454 added successfully\n",
      "Queue Items: [135, 235, 454]\n"
     ]
    }
   ],
   "source": [
    "class Queue:\n",
    "    \n",
    "    def __init__(self):\n",
    "        self.items = []\n",
    "        \n",
    "    def enque(self,element):\n",
    "        self.items.append(element)\n",
    "        print(f\"element {element} added successfully\")\n",
    "    \n",
    "    def deque(self):\n",
    "        self.items.pop(0)\n",
    "        print(f\"element {self.items[0]} removed successfully\")\n",
    "    \n",
    "    def display(self):\n",
    "        if len(self.items) == 0:\n",
    "            return \"Empty list\"\n",
    "        else:\n",
    "            return f\"Queue Items: {self.items}\" \n",
    "    \n",
    "    \n",
    "# object\n",
    "obj1 = Queue()\n",
    "print(obj1.display())\n",
    "obj1.enque(454)\n",
    "obj1.enque(135)\n",
    "obj1.enque(235)\n",
    "obj1.deque()\n",
    "obj1.enque(454)\n",
    "print(obj1.display())"
   ]
  },
  {
   "cell_type": "markdown",
   "id": "61022ded-d23f-46a6-9e49-d8c6f375166d",
   "metadata": {},
   "source": [
    "## Question 23\n",
    "#### Create a class Stack with methods for pushing, popping, and checking the size of the stack"
   ]
  },
  {
   "cell_type": "code",
   "execution_count": 52,
   "id": "b782093c-76cd-4d7b-9da2-64b6ddccd633",
   "metadata": {},
   "outputs": [
    {
     "name": "stdout",
     "output_type": "stream",
     "text": [
      "\n",
      "1. Push\n",
      "2. Pop\n",
      "3. Check Size\n",
      "4. Exit\n"
     ]
    },
    {
     "name": "stdin",
     "output_type": "stream",
     "text": [
      "Choose an option:  1\n",
      "Enter the item to push:  232\n"
     ]
    },
    {
     "name": "stdout",
     "output_type": "stream",
     "text": [
      "232 pushed onto the stack\n",
      "\n",
      "1. Push\n",
      "2. Pop\n",
      "3. Check Size\n",
      "4. Exit\n"
     ]
    },
    {
     "name": "stdin",
     "output_type": "stream",
     "text": [
      "Choose an option:  1\n",
      "Enter the item to push:  232\n"
     ]
    },
    {
     "name": "stdout",
     "output_type": "stream",
     "text": [
      "232 pushed onto the stack\n",
      "\n",
      "1. Push\n",
      "2. Pop\n",
      "3. Check Size\n",
      "4. Exit\n"
     ]
    },
    {
     "name": "stdin",
     "output_type": "stream",
     "text": [
      "Choose an option:  2\n"
     ]
    },
    {
     "name": "stdout",
     "output_type": "stream",
     "text": [
      "Popped item: 232\n",
      "\n",
      "1. Push\n",
      "2. Pop\n",
      "3. Check Size\n",
      "4. Exit\n"
     ]
    },
    {
     "name": "stdin",
     "output_type": "stream",
     "text": [
      "Choose an option:  3\n"
     ]
    },
    {
     "name": "stdout",
     "output_type": "stream",
     "text": [
      "Stack size: 1\n",
      "\n",
      "1. Push\n",
      "2. Pop\n",
      "3. Check Size\n",
      "4. Exit\n"
     ]
    },
    {
     "name": "stdin",
     "output_type": "stream",
     "text": [
      "Choose an option:  4\n"
     ]
    }
   ],
   "source": [
    "class Stack:\n",
    "    def __init__(self):\n",
    "        self.stack = []\n",
    "\n",
    "    def push(self, item):\n",
    "        self.stack.append(item)\n",
    "        print(f\"{item} pushed onto the stack\")\n",
    "\n",
    "    def pop(self):\n",
    "        if self.stack:\n",
    "            return self.stack.pop()\n",
    "        else:\n",
    "            return \"Stack is empty.\"\n",
    "\n",
    "    def size(self):\n",
    "        return len(self.stack)\n",
    "\n",
    "s = Stack()\n",
    "while True:\n",
    "    print(\"\\n1. Push\\n2. Pop\\n3. Check Size\\n4. Exit\")\n",
    "    choice = int(input(\"Choose an option: \"))\n",
    "\n",
    "    if choice == 1:\n",
    "        item = input(\"Enter the item to push: \")\n",
    "        s.push(item)\n",
    "    elif choice == 2:\n",
    "        print(f\"Popped item: {s.pop()}\")\n",
    "    elif choice == 3:\n",
    "        print(f\"Stack size: {s.size()}\")\n",
    "    elif choice == 4:\n",
    "        break\n",
    "    else:\n",
    "        print(\"Invalid choice!\")\n"
   ]
  },
  {
   "cell_type": "markdown",
   "id": "0e7c9423-75ae-43bd-b52a-f2fc20c17c3b",
   "metadata": {},
   "source": [
    "## Question 24\n",
    "#### Develop a MusicPlayer class with methods to play, stop, and load music tracks (simulated with print statements)."
   ]
  },
  {
   "cell_type": "code",
   "execution_count": 58,
   "id": "d9bb98ce-7c7d-484f-a6cb-ff928d5dbc1e",
   "metadata": {},
   "outputs": [
    {
     "name": "stdin",
     "output_type": "stream",
     "text": [
      "enter the song name kgf\n"
     ]
    },
    {
     "name": "stdout",
     "output_type": "stream",
     "text": [
      "Playing kgf song...\n",
      "Pausing song kgf\n",
      "Playing new song kantara\n"
     ]
    }
   ],
   "source": [
    "class MusicPlayer:\n",
    "    \n",
    "    def __init__(self,song_name):\n",
    "        self.song_name = song_name \n",
    "        \n",
    "    def play(self):\n",
    "        return f\"Playing {self.song_name} song...\"\n",
    "    \n",
    "    def stop(self):\n",
    "        return f\"Pausing song {self.song_name}\"\n",
    "    \n",
    "    def loadMusic(self,new_song):\n",
    "        return f\"Playing new song {new_song}\"\n",
    "    \n",
    "song_name = input(\"enter the song name\")\n",
    "song = MusicPlayer(song_name)\n",
    "print(song.play())\n",
    "print(song.stop())\n",
    "print(song.loadMusic(\"kantara\"))"
   ]
  },
  {
   "cell_type": "markdown",
   "id": "63e5f927-400a-44bf-be8c-f6abf4d3f771",
   "metadata": {},
   "source": [
    "## Question 25\n",
    "#### Implement a Database class that simulates a simple database interaction with methods to connect, disconnect, and execute a query (simulated with print statements).\n"
   ]
  },
  {
   "cell_type": "code",
   "execution_count": 46,
   "id": "28460f38-4726-4875-bb69-19fbc0ba88c8",
   "metadata": {},
   "outputs": [
    {
     "name": "stdout",
     "output_type": "stream",
     "text": [
      "\n",
      "1. Connect\n",
      "2. Disconnect\n",
      "3. Execute Query\n",
      "4. Exit\n"
     ]
    },
    {
     "name": "stdin",
     "output_type": "stream",
     "text": [
      "Choose an option:  1\n"
     ]
    },
    {
     "name": "stdout",
     "output_type": "stream",
     "text": [
      "Connected to the database.\n",
      "\n",
      "1. Connect\n",
      "2. Disconnect\n",
      "3. Execute Query\n",
      "4. Exit\n"
     ]
    },
    {
     "name": "stdin",
     "output_type": "stream",
     "text": [
      "Choose an option:  2\n"
     ]
    },
    {
     "name": "stdout",
     "output_type": "stream",
     "text": [
      "Disconnected from the database.\n",
      "\n",
      "1. Connect\n",
      "2. Disconnect\n",
      "3. Execute Query\n",
      "4. Exit\n"
     ]
    },
    {
     "name": "stdin",
     "output_type": "stream",
     "text": [
      "Choose an option:  3\n",
      "Enter your query:  4\n"
     ]
    },
    {
     "name": "stdout",
     "output_type": "stream",
     "text": [
      "Cannot execute query. No active database connection.\n",
      "\n",
      "1. Connect\n",
      "2. Disconnect\n",
      "3. Execute Query\n",
      "4. Exit\n"
     ]
    },
    {
     "name": "stdin",
     "output_type": "stream",
     "text": [
      "Choose an option:  4\n"
     ]
    }
   ],
   "source": [
    "class Database:\n",
    "    def __init__(self):\n",
    "        self.connected = False\n",
    "\n",
    "    def connect(self):\n",
    "        if not self.connected:\n",
    "            self.connected = True\n",
    "            print(\"Connected to the database.\")\n",
    "        else:\n",
    "            print(\"Already connected.\")\n",
    "\n",
    "    def disconnect(self):\n",
    "        if self.connected:\n",
    "            self.connected = False\n",
    "            print(\"Disconnected from the database.\")\n",
    "        else:\n",
    "            print(\"No active connection to disconnect.\")\n",
    "\n",
    "    def execute_query(self, query):\n",
    "        if self.connected:\n",
    "            print(f\"Executing query: {query}\")\n",
    "        else:\n",
    "            print(\"Cannot execute query. No active database connection.\")\n",
    "\n",
    "# Create Database object\n",
    "db = Database()\n",
    "\n",
    "while True:\n",
    "    print(\"\\n1. Connect\\n2. Disconnect\\n3. Execute Query\\n4. Exit\")\n",
    "    choice = int(input(\"Choose an option: \"))\n",
    "\n",
    "    if choice == 1:\n",
    "        db.connect()\n",
    "    elif choice == 2:\n",
    "        db.disconnect()\n",
    "    elif choice == 3:\n",
    "        query = input(\"Enter your query: \")\n",
    "        db.execute_query(query)\n",
    "    elif choice == 4:\n",
    "        break\n",
    "    else:\n",
    "        print(\"Invalid choice!\")\n"
   ]
  },
  {
   "cell_type": "code",
   "execution_count": null,
   "id": "82910d33-2cd7-4fab-ae16-580da9c41d98",
   "metadata": {},
   "outputs": [],
   "source": []
  }
 ],
 "metadata": {
  "kernelspec": {
   "display_name": "Python 3 (ipykernel)",
   "language": "python",
   "name": "python3"
  },
  "language_info": {
   "codemirror_mode": {
    "name": "ipython",
    "version": 3
   },
   "file_extension": ".py",
   "mimetype": "text/x-python",
   "name": "python",
   "nbconvert_exporter": "python",
   "pygments_lexer": "ipython3",
   "version": "3.9.19"
  }
 },
 "nbformat": 4,
 "nbformat_minor": 5
}
