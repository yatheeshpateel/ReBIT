{
  "nbformat": 4,
  "nbformat_minor": 0,
  "metadata": {
    "colab": {
      "provenance": []
    },
    "kernelspec": {
      "name": "python3",
      "display_name": "Python 3"
    },
    "language_info": {
      "name": "python"
    }
  },
  "cells": [
    {
      "cell_type": "markdown",
      "source": [],
      "metadata": {
        "id": "Ral0LSOLf0ew"
      }
    },
    {
      "cell_type": "markdown",
      "source": [
        "Importing the Libreries\n"
      ],
      "metadata": {
        "id": "UjNDe-vyF_xO"
      }
    },
    {
      "cell_type": "code",
      "execution_count": null,
      "metadata": {
        "id": "neR2y1PIeB34"
      },
      "outputs": [],
      "source": [
        "\n",
        "import pandas as pd\n",
        "import numpy as np\n",
        "import matplotlib.pyplot as plt\n",
        "import seaborn as sns\n",
        "import warnings\n",
        "warnings.filterwarnings('ignore')"
      ]
    },
    {
      "cell_type": "markdown",
      "source": [
        "Load the CSV File"
      ],
      "metadata": {
        "id": "OIWhEymJGGAL"
      }
    },
    {
      "cell_type": "code",
      "source": [
        "\n",
        "df = pd.read_csv(\"/content/sample_data/transactions_data.csv\")\n",
        "df.head()"
      ],
      "metadata": {
        "colab": {
          "base_uri": "https://localhost:8080/",
          "height": 206
        },
        "id": "27_W2LR_gAkJ",
        "outputId": "ef0a8873-a563-4f15-e98b-169c9138944a"
      },
      "execution_count": null,
      "outputs": [
        {
          "output_type": "execute_result",
          "data": {
            "text/plain": [
              "        id                 date  client_id  card_id   amount  \\\n",
              "0  7475327  2010-01-01 00:01:00       1556     2972  $-77.00   \n",
              "1  7475328  2010-01-01 00:02:00        561     4575   $14.57   \n",
              "2  7475329  2010-01-01 00:02:00       1129      102   $80.00   \n",
              "3  7475331  2010-01-01 00:05:00        430     2860  $200.00   \n",
              "4  7475332  2010-01-01 00:06:00        848     3915   $46.41   \n",
              "\n",
              "            use_chip  merchant_id merchant_city merchant_state      zip  \\\n",
              "0  Swipe Transaction        59935        Beulah             ND  58523.0   \n",
              "1  Swipe Transaction        67570    Bettendorf             IA  52722.0   \n",
              "2  Swipe Transaction        27092         Vista             CA  92084.0   \n",
              "3  Swipe Transaction        27092   Crown Point             IN  46307.0   \n",
              "4  Swipe Transaction        13051       Harwood             MD  20776.0   \n",
              "\n",
              "      mcc errors  \n",
              "0  5499.0    NaN  \n",
              "1  5311.0    NaN  \n",
              "2  4829.0    NaN  \n",
              "3  4829.0    NaN  \n",
              "4  5813.0    NaN  "
            ],
            "text/html": [
              "\n",
              "  <div id=\"df-d919d074-77cb-46a7-961e-00e42592b868\" class=\"colab-df-container\">\n",
              "    <div>\n",
              "<style scoped>\n",
              "    .dataframe tbody tr th:only-of-type {\n",
              "        vertical-align: middle;\n",
              "    }\n",
              "\n",
              "    .dataframe tbody tr th {\n",
              "        vertical-align: top;\n",
              "    }\n",
              "\n",
              "    .dataframe thead th {\n",
              "        text-align: right;\n",
              "    }\n",
              "</style>\n",
              "<table border=\"1\" class=\"dataframe\">\n",
              "  <thead>\n",
              "    <tr style=\"text-align: right;\">\n",
              "      <th></th>\n",
              "      <th>id</th>\n",
              "      <th>date</th>\n",
              "      <th>client_id</th>\n",
              "      <th>card_id</th>\n",
              "      <th>amount</th>\n",
              "      <th>use_chip</th>\n",
              "      <th>merchant_id</th>\n",
              "      <th>merchant_city</th>\n",
              "      <th>merchant_state</th>\n",
              "      <th>zip</th>\n",
              "      <th>mcc</th>\n",
              "      <th>errors</th>\n",
              "    </tr>\n",
              "  </thead>\n",
              "  <tbody>\n",
              "    <tr>\n",
              "      <th>0</th>\n",
              "      <td>7475327</td>\n",
              "      <td>2010-01-01 00:01:00</td>\n",
              "      <td>1556</td>\n",
              "      <td>2972</td>\n",
              "      <td>$-77.00</td>\n",
              "      <td>Swipe Transaction</td>\n",
              "      <td>59935</td>\n",
              "      <td>Beulah</td>\n",
              "      <td>ND</td>\n",
              "      <td>58523.0</td>\n",
              "      <td>5499.0</td>\n",
              "      <td>NaN</td>\n",
              "    </tr>\n",
              "    <tr>\n",
              "      <th>1</th>\n",
              "      <td>7475328</td>\n",
              "      <td>2010-01-01 00:02:00</td>\n",
              "      <td>561</td>\n",
              "      <td>4575</td>\n",
              "      <td>$14.57</td>\n",
              "      <td>Swipe Transaction</td>\n",
              "      <td>67570</td>\n",
              "      <td>Bettendorf</td>\n",
              "      <td>IA</td>\n",
              "      <td>52722.0</td>\n",
              "      <td>5311.0</td>\n",
              "      <td>NaN</td>\n",
              "    </tr>\n",
              "    <tr>\n",
              "      <th>2</th>\n",
              "      <td>7475329</td>\n",
              "      <td>2010-01-01 00:02:00</td>\n",
              "      <td>1129</td>\n",
              "      <td>102</td>\n",
              "      <td>$80.00</td>\n",
              "      <td>Swipe Transaction</td>\n",
              "      <td>27092</td>\n",
              "      <td>Vista</td>\n",
              "      <td>CA</td>\n",
              "      <td>92084.0</td>\n",
              "      <td>4829.0</td>\n",
              "      <td>NaN</td>\n",
              "    </tr>\n",
              "    <tr>\n",
              "      <th>3</th>\n",
              "      <td>7475331</td>\n",
              "      <td>2010-01-01 00:05:00</td>\n",
              "      <td>430</td>\n",
              "      <td>2860</td>\n",
              "      <td>$200.00</td>\n",
              "      <td>Swipe Transaction</td>\n",
              "      <td>27092</td>\n",
              "      <td>Crown Point</td>\n",
              "      <td>IN</td>\n",
              "      <td>46307.0</td>\n",
              "      <td>4829.0</td>\n",
              "      <td>NaN</td>\n",
              "    </tr>\n",
              "    <tr>\n",
              "      <th>4</th>\n",
              "      <td>7475332</td>\n",
              "      <td>2010-01-01 00:06:00</td>\n",
              "      <td>848</td>\n",
              "      <td>3915</td>\n",
              "      <td>$46.41</td>\n",
              "      <td>Swipe Transaction</td>\n",
              "      <td>13051</td>\n",
              "      <td>Harwood</td>\n",
              "      <td>MD</td>\n",
              "      <td>20776.0</td>\n",
              "      <td>5813.0</td>\n",
              "      <td>NaN</td>\n",
              "    </tr>\n",
              "  </tbody>\n",
              "</table>\n",
              "</div>\n",
              "    <div class=\"colab-df-buttons\">\n",
              "\n",
              "  <div class=\"colab-df-container\">\n",
              "    <button class=\"colab-df-convert\" onclick=\"convertToInteractive('df-d919d074-77cb-46a7-961e-00e42592b868')\"\n",
              "            title=\"Convert this dataframe to an interactive table.\"\n",
              "            style=\"display:none;\">\n",
              "\n",
              "  <svg xmlns=\"http://www.w3.org/2000/svg\" height=\"24px\" viewBox=\"0 -960 960 960\">\n",
              "    <path d=\"M120-120v-720h720v720H120Zm60-500h600v-160H180v160Zm220 220h160v-160H400v160Zm0 220h160v-160H400v160ZM180-400h160v-160H180v160Zm440 0h160v-160H620v160ZM180-180h160v-160H180v160Zm440 0h160v-160H620v160Z\"/>\n",
              "  </svg>\n",
              "    </button>\n",
              "\n",
              "  <style>\n",
              "    .colab-df-container {\n",
              "      display:flex;\n",
              "      gap: 12px;\n",
              "    }\n",
              "\n",
              "    .colab-df-convert {\n",
              "      background-color: #E8F0FE;\n",
              "      border: none;\n",
              "      border-radius: 50%;\n",
              "      cursor: pointer;\n",
              "      display: none;\n",
              "      fill: #1967D2;\n",
              "      height: 32px;\n",
              "      padding: 0 0 0 0;\n",
              "      width: 32px;\n",
              "    }\n",
              "\n",
              "    .colab-df-convert:hover {\n",
              "      background-color: #E2EBFA;\n",
              "      box-shadow: 0px 1px 2px rgba(60, 64, 67, 0.3), 0px 1px 3px 1px rgba(60, 64, 67, 0.15);\n",
              "      fill: #174EA6;\n",
              "    }\n",
              "\n",
              "    .colab-df-buttons div {\n",
              "      margin-bottom: 4px;\n",
              "    }\n",
              "\n",
              "    [theme=dark] .colab-df-convert {\n",
              "      background-color: #3B4455;\n",
              "      fill: #D2E3FC;\n",
              "    }\n",
              "\n",
              "    [theme=dark] .colab-df-convert:hover {\n",
              "      background-color: #434B5C;\n",
              "      box-shadow: 0px 1px 3px 1px rgba(0, 0, 0, 0.15);\n",
              "      filter: drop-shadow(0px 1px 2px rgba(0, 0, 0, 0.3));\n",
              "      fill: #FFFFFF;\n",
              "    }\n",
              "  </style>\n",
              "\n",
              "    <script>\n",
              "      const buttonEl =\n",
              "        document.querySelector('#df-d919d074-77cb-46a7-961e-00e42592b868 button.colab-df-convert');\n",
              "      buttonEl.style.display =\n",
              "        google.colab.kernel.accessAllowed ? 'block' : 'none';\n",
              "\n",
              "      async function convertToInteractive(key) {\n",
              "        const element = document.querySelector('#df-d919d074-77cb-46a7-961e-00e42592b868');\n",
              "        const dataTable =\n",
              "          await google.colab.kernel.invokeFunction('convertToInteractive',\n",
              "                                                    [key], {});\n",
              "        if (!dataTable) return;\n",
              "\n",
              "        const docLinkHtml = 'Like what you see? Visit the ' +\n",
              "          '<a target=\"_blank\" href=https://colab.research.google.com/notebooks/data_table.ipynb>data table notebook</a>'\n",
              "          + ' to learn more about interactive tables.';\n",
              "        element.innerHTML = '';\n",
              "        dataTable['output_type'] = 'display_data';\n",
              "        await google.colab.output.renderOutput(dataTable, element);\n",
              "        const docLink = document.createElement('div');\n",
              "        docLink.innerHTML = docLinkHtml;\n",
              "        element.appendChild(docLink);\n",
              "      }\n",
              "    </script>\n",
              "  </div>\n",
              "\n",
              "\n",
              "<div id=\"df-50923563-2481-452d-b895-6bf8e2ae8dc0\">\n",
              "  <button class=\"colab-df-quickchart\" onclick=\"quickchart('df-50923563-2481-452d-b895-6bf8e2ae8dc0')\"\n",
              "            title=\"Suggest charts\"\n",
              "            style=\"display:none;\">\n",
              "\n",
              "<svg xmlns=\"http://www.w3.org/2000/svg\" height=\"24px\"viewBox=\"0 0 24 24\"\n",
              "     width=\"24px\">\n",
              "    <g>\n",
              "        <path d=\"M19 3H5c-1.1 0-2 .9-2 2v14c0 1.1.9 2 2 2h14c1.1 0 2-.9 2-2V5c0-1.1-.9-2-2-2zM9 17H7v-7h2v7zm4 0h-2V7h2v10zm4 0h-2v-4h2v4z\"/>\n",
              "    </g>\n",
              "</svg>\n",
              "  </button>\n",
              "\n",
              "<style>\n",
              "  .colab-df-quickchart {\n",
              "      --bg-color: #E8F0FE;\n",
              "      --fill-color: #1967D2;\n",
              "      --hover-bg-color: #E2EBFA;\n",
              "      --hover-fill-color: #174EA6;\n",
              "      --disabled-fill-color: #AAA;\n",
              "      --disabled-bg-color: #DDD;\n",
              "  }\n",
              "\n",
              "  [theme=dark] .colab-df-quickchart {\n",
              "      --bg-color: #3B4455;\n",
              "      --fill-color: #D2E3FC;\n",
              "      --hover-bg-color: #434B5C;\n",
              "      --hover-fill-color: #FFFFFF;\n",
              "      --disabled-bg-color: #3B4455;\n",
              "      --disabled-fill-color: #666;\n",
              "  }\n",
              "\n",
              "  .colab-df-quickchart {\n",
              "    background-color: var(--bg-color);\n",
              "    border: none;\n",
              "    border-radius: 50%;\n",
              "    cursor: pointer;\n",
              "    display: none;\n",
              "    fill: var(--fill-color);\n",
              "    height: 32px;\n",
              "    padding: 0;\n",
              "    width: 32px;\n",
              "  }\n",
              "\n",
              "  .colab-df-quickchart:hover {\n",
              "    background-color: var(--hover-bg-color);\n",
              "    box-shadow: 0 1px 2px rgba(60, 64, 67, 0.3), 0 1px 3px 1px rgba(60, 64, 67, 0.15);\n",
              "    fill: var(--button-hover-fill-color);\n",
              "  }\n",
              "\n",
              "  .colab-df-quickchart-complete:disabled,\n",
              "  .colab-df-quickchart-complete:disabled:hover {\n",
              "    background-color: var(--disabled-bg-color);\n",
              "    fill: var(--disabled-fill-color);\n",
              "    box-shadow: none;\n",
              "  }\n",
              "\n",
              "  .colab-df-spinner {\n",
              "    border: 2px solid var(--fill-color);\n",
              "    border-color: transparent;\n",
              "    border-bottom-color: var(--fill-color);\n",
              "    animation:\n",
              "      spin 1s steps(1) infinite;\n",
              "  }\n",
              "\n",
              "  @keyframes spin {\n",
              "    0% {\n",
              "      border-color: transparent;\n",
              "      border-bottom-color: var(--fill-color);\n",
              "      border-left-color: var(--fill-color);\n",
              "    }\n",
              "    20% {\n",
              "      border-color: transparent;\n",
              "      border-left-color: var(--fill-color);\n",
              "      border-top-color: var(--fill-color);\n",
              "    }\n",
              "    30% {\n",
              "      border-color: transparent;\n",
              "      border-left-color: var(--fill-color);\n",
              "      border-top-color: var(--fill-color);\n",
              "      border-right-color: var(--fill-color);\n",
              "    }\n",
              "    40% {\n",
              "      border-color: transparent;\n",
              "      border-right-color: var(--fill-color);\n",
              "      border-top-color: var(--fill-color);\n",
              "    }\n",
              "    60% {\n",
              "      border-color: transparent;\n",
              "      border-right-color: var(--fill-color);\n",
              "    }\n",
              "    80% {\n",
              "      border-color: transparent;\n",
              "      border-right-color: var(--fill-color);\n",
              "      border-bottom-color: var(--fill-color);\n",
              "    }\n",
              "    90% {\n",
              "      border-color: transparent;\n",
              "      border-bottom-color: var(--fill-color);\n",
              "    }\n",
              "  }\n",
              "</style>\n",
              "\n",
              "  <script>\n",
              "    async function quickchart(key) {\n",
              "      const quickchartButtonEl =\n",
              "        document.querySelector('#' + key + ' button');\n",
              "      quickchartButtonEl.disabled = true;  // To prevent multiple clicks.\n",
              "      quickchartButtonEl.classList.add('colab-df-spinner');\n",
              "      try {\n",
              "        const charts = await google.colab.kernel.invokeFunction(\n",
              "            'suggestCharts', [key], {});\n",
              "      } catch (error) {\n",
              "        console.error('Error during call to suggestCharts:', error);\n",
              "      }\n",
              "      quickchartButtonEl.classList.remove('colab-df-spinner');\n",
              "      quickchartButtonEl.classList.add('colab-df-quickchart-complete');\n",
              "    }\n",
              "    (() => {\n",
              "      let quickchartButtonEl =\n",
              "        document.querySelector('#df-50923563-2481-452d-b895-6bf8e2ae8dc0 button');\n",
              "      quickchartButtonEl.style.display =\n",
              "        google.colab.kernel.accessAllowed ? 'block' : 'none';\n",
              "    })();\n",
              "  </script>\n",
              "</div>\n",
              "\n",
              "    </div>\n",
              "  </div>\n"
            ],
            "application/vnd.google.colaboratory.intrinsic+json": {
              "type": "dataframe",
              "variable_name": "df"
            }
          },
          "metadata": {},
          "execution_count": 176
        }
      ]
    },
    {
      "cell_type": "code",
      "source": [
        "pd.set_option('display.max_columns', None)"
      ],
      "metadata": {
        "id": "bqF4uFf0h8S2"
      },
      "execution_count": null,
      "outputs": []
    },
    {
      "cell_type": "code",
      "source": [
        "df\n"
      ],
      "metadata": {
        "colab": {
          "base_uri": "https://localhost:8080/",
          "height": 423
        },
        "id": "Zqkw7CkuiCxz",
        "outputId": "b6706f07-4310-4bbc-fe15-3a32396d2e83"
      },
      "execution_count": null,
      "outputs": [
        {
          "output_type": "execute_result",
          "data": {
            "text/plain": [
              "              id                 date  client_id  card_id   amount  \\\n",
              "0        7475327  2010-01-01 00:01:00       1556     2972  $-77.00   \n",
              "1        7475328  2010-01-01 00:02:00        561     4575   $14.57   \n",
              "2        7475329  2010-01-01 00:02:00       1129      102   $80.00   \n",
              "3        7475331  2010-01-01 00:05:00        430     2860  $200.00   \n",
              "4        7475332  2010-01-01 00:06:00        848     3915   $46.41   \n",
              "...          ...                  ...        ...      ...      ...   \n",
              "1235830  8960512  2010-12-30 12:41:00       1173     4696    $6.48   \n",
              "1235831  8960513  2010-12-30 12:41:00       1379     5215   $46.47   \n",
              "1235832  8960514  2010-12-30 12:41:00       1412     3436   $14.74   \n",
              "1235833  8960515  2010-12-30 12:41:00       1807      165   $40.93   \n",
              "1235834  8960516  2010-12-30 12:41:00       1875     4167   $16.73   \n",
              "\n",
              "                   use_chip  merchant_id merchant_city merchant_state  \\\n",
              "0         Swipe Transaction        59935        Beulah             ND   \n",
              "1         Swipe Transaction        67570    Bettendorf             IA   \n",
              "2         Swipe Transaction        27092         Vista             CA   \n",
              "3         Swipe Transaction        27092   Crown Point             IN   \n",
              "4         Swipe Transaction        13051       Harwood             MD   \n",
              "...                     ...          ...           ...            ...   \n",
              "1235830   Swipe Transaction        50783      Gillette             WY   \n",
              "1235831   Swipe Transaction        34702    Marysville             MI   \n",
              "1235832   Swipe Transaction        25887       Garland             UT   \n",
              "1235833  Online Transaction        39021        ONLINE            NaN   \n",
              "1235834   Swipe Transaction        62008            Ca            NaN   \n",
              "\n",
              "             zip     mcc errors  \n",
              "0        58523.0  5499.0    NaN  \n",
              "1        52722.0  5311.0    NaN  \n",
              "2        92084.0  4829.0    NaN  \n",
              "3        46307.0  4829.0    NaN  \n",
              "4        20776.0  5813.0    NaN  \n",
              "...          ...     ...    ...  \n",
              "1235830  82716.0  5411.0    NaN  \n",
              "1235831  48040.0  5310.0    NaN  \n",
              "1235832  84312.0  5814.0    NaN  \n",
              "1235833      NaN  4784.0    NaN  \n",
              "1235834      NaN     NaN    NaN  \n",
              "\n",
              "[1235835 rows x 12 columns]"
            ],
            "text/html": [
              "\n",
              "  <div id=\"df-ace866f9-9680-4e21-84d1-6f521c2301f0\" class=\"colab-df-container\">\n",
              "    <div>\n",
              "<style scoped>\n",
              "    .dataframe tbody tr th:only-of-type {\n",
              "        vertical-align: middle;\n",
              "    }\n",
              "\n",
              "    .dataframe tbody tr th {\n",
              "        vertical-align: top;\n",
              "    }\n",
              "\n",
              "    .dataframe thead th {\n",
              "        text-align: right;\n",
              "    }\n",
              "</style>\n",
              "<table border=\"1\" class=\"dataframe\">\n",
              "  <thead>\n",
              "    <tr style=\"text-align: right;\">\n",
              "      <th></th>\n",
              "      <th>id</th>\n",
              "      <th>date</th>\n",
              "      <th>client_id</th>\n",
              "      <th>card_id</th>\n",
              "      <th>amount</th>\n",
              "      <th>use_chip</th>\n",
              "      <th>merchant_id</th>\n",
              "      <th>merchant_city</th>\n",
              "      <th>merchant_state</th>\n",
              "      <th>zip</th>\n",
              "      <th>mcc</th>\n",
              "      <th>errors</th>\n",
              "    </tr>\n",
              "  </thead>\n",
              "  <tbody>\n",
              "    <tr>\n",
              "      <th>0</th>\n",
              "      <td>7475327</td>\n",
              "      <td>2010-01-01 00:01:00</td>\n",
              "      <td>1556</td>\n",
              "      <td>2972</td>\n",
              "      <td>$-77.00</td>\n",
              "      <td>Swipe Transaction</td>\n",
              "      <td>59935</td>\n",
              "      <td>Beulah</td>\n",
              "      <td>ND</td>\n",
              "      <td>58523.0</td>\n",
              "      <td>5499.0</td>\n",
              "      <td>NaN</td>\n",
              "    </tr>\n",
              "    <tr>\n",
              "      <th>1</th>\n",
              "      <td>7475328</td>\n",
              "      <td>2010-01-01 00:02:00</td>\n",
              "      <td>561</td>\n",
              "      <td>4575</td>\n",
              "      <td>$14.57</td>\n",
              "      <td>Swipe Transaction</td>\n",
              "      <td>67570</td>\n",
              "      <td>Bettendorf</td>\n",
              "      <td>IA</td>\n",
              "      <td>52722.0</td>\n",
              "      <td>5311.0</td>\n",
              "      <td>NaN</td>\n",
              "    </tr>\n",
              "    <tr>\n",
              "      <th>2</th>\n",
              "      <td>7475329</td>\n",
              "      <td>2010-01-01 00:02:00</td>\n",
              "      <td>1129</td>\n",
              "      <td>102</td>\n",
              "      <td>$80.00</td>\n",
              "      <td>Swipe Transaction</td>\n",
              "      <td>27092</td>\n",
              "      <td>Vista</td>\n",
              "      <td>CA</td>\n",
              "      <td>92084.0</td>\n",
              "      <td>4829.0</td>\n",
              "      <td>NaN</td>\n",
              "    </tr>\n",
              "    <tr>\n",
              "      <th>3</th>\n",
              "      <td>7475331</td>\n",
              "      <td>2010-01-01 00:05:00</td>\n",
              "      <td>430</td>\n",
              "      <td>2860</td>\n",
              "      <td>$200.00</td>\n",
              "      <td>Swipe Transaction</td>\n",
              "      <td>27092</td>\n",
              "      <td>Crown Point</td>\n",
              "      <td>IN</td>\n",
              "      <td>46307.0</td>\n",
              "      <td>4829.0</td>\n",
              "      <td>NaN</td>\n",
              "    </tr>\n",
              "    <tr>\n",
              "      <th>4</th>\n",
              "      <td>7475332</td>\n",
              "      <td>2010-01-01 00:06:00</td>\n",
              "      <td>848</td>\n",
              "      <td>3915</td>\n",
              "      <td>$46.41</td>\n",
              "      <td>Swipe Transaction</td>\n",
              "      <td>13051</td>\n",
              "      <td>Harwood</td>\n",
              "      <td>MD</td>\n",
              "      <td>20776.0</td>\n",
              "      <td>5813.0</td>\n",
              "      <td>NaN</td>\n",
              "    </tr>\n",
              "    <tr>\n",
              "      <th>...</th>\n",
              "      <td>...</td>\n",
              "      <td>...</td>\n",
              "      <td>...</td>\n",
              "      <td>...</td>\n",
              "      <td>...</td>\n",
              "      <td>...</td>\n",
              "      <td>...</td>\n",
              "      <td>...</td>\n",
              "      <td>...</td>\n",
              "      <td>...</td>\n",
              "      <td>...</td>\n",
              "      <td>...</td>\n",
              "    </tr>\n",
              "    <tr>\n",
              "      <th>1235830</th>\n",
              "      <td>8960512</td>\n",
              "      <td>2010-12-30 12:41:00</td>\n",
              "      <td>1173</td>\n",
              "      <td>4696</td>\n",
              "      <td>$6.48</td>\n",
              "      <td>Swipe Transaction</td>\n",
              "      <td>50783</td>\n",
              "      <td>Gillette</td>\n",
              "      <td>WY</td>\n",
              "      <td>82716.0</td>\n",
              "      <td>5411.0</td>\n",
              "      <td>NaN</td>\n",
              "    </tr>\n",
              "    <tr>\n",
              "      <th>1235831</th>\n",
              "      <td>8960513</td>\n",
              "      <td>2010-12-30 12:41:00</td>\n",
              "      <td>1379</td>\n",
              "      <td>5215</td>\n",
              "      <td>$46.47</td>\n",
              "      <td>Swipe Transaction</td>\n",
              "      <td>34702</td>\n",
              "      <td>Marysville</td>\n",
              "      <td>MI</td>\n",
              "      <td>48040.0</td>\n",
              "      <td>5310.0</td>\n",
              "      <td>NaN</td>\n",
              "    </tr>\n",
              "    <tr>\n",
              "      <th>1235832</th>\n",
              "      <td>8960514</td>\n",
              "      <td>2010-12-30 12:41:00</td>\n",
              "      <td>1412</td>\n",
              "      <td>3436</td>\n",
              "      <td>$14.74</td>\n",
              "      <td>Swipe Transaction</td>\n",
              "      <td>25887</td>\n",
              "      <td>Garland</td>\n",
              "      <td>UT</td>\n",
              "      <td>84312.0</td>\n",
              "      <td>5814.0</td>\n",
              "      <td>NaN</td>\n",
              "    </tr>\n",
              "    <tr>\n",
              "      <th>1235833</th>\n",
              "      <td>8960515</td>\n",
              "      <td>2010-12-30 12:41:00</td>\n",
              "      <td>1807</td>\n",
              "      <td>165</td>\n",
              "      <td>$40.93</td>\n",
              "      <td>Online Transaction</td>\n",
              "      <td>39021</td>\n",
              "      <td>ONLINE</td>\n",
              "      <td>NaN</td>\n",
              "      <td>NaN</td>\n",
              "      <td>4784.0</td>\n",
              "      <td>NaN</td>\n",
              "    </tr>\n",
              "    <tr>\n",
              "      <th>1235834</th>\n",
              "      <td>8960516</td>\n",
              "      <td>2010-12-30 12:41:00</td>\n",
              "      <td>1875</td>\n",
              "      <td>4167</td>\n",
              "      <td>$16.73</td>\n",
              "      <td>Swipe Transaction</td>\n",
              "      <td>62008</td>\n",
              "      <td>Ca</td>\n",
              "      <td>NaN</td>\n",
              "      <td>NaN</td>\n",
              "      <td>NaN</td>\n",
              "      <td>NaN</td>\n",
              "    </tr>\n",
              "  </tbody>\n",
              "</table>\n",
              "<p>1235835 rows × 12 columns</p>\n",
              "</div>\n",
              "    <div class=\"colab-df-buttons\">\n",
              "\n",
              "  <div class=\"colab-df-container\">\n",
              "    <button class=\"colab-df-convert\" onclick=\"convertToInteractive('df-ace866f9-9680-4e21-84d1-6f521c2301f0')\"\n",
              "            title=\"Convert this dataframe to an interactive table.\"\n",
              "            style=\"display:none;\">\n",
              "\n",
              "  <svg xmlns=\"http://www.w3.org/2000/svg\" height=\"24px\" viewBox=\"0 -960 960 960\">\n",
              "    <path d=\"M120-120v-720h720v720H120Zm60-500h600v-160H180v160Zm220 220h160v-160H400v160Zm0 220h160v-160H400v160ZM180-400h160v-160H180v160Zm440 0h160v-160H620v160ZM180-180h160v-160H180v160Zm440 0h160v-160H620v160Z\"/>\n",
              "  </svg>\n",
              "    </button>\n",
              "\n",
              "  <style>\n",
              "    .colab-df-container {\n",
              "      display:flex;\n",
              "      gap: 12px;\n",
              "    }\n",
              "\n",
              "    .colab-df-convert {\n",
              "      background-color: #E8F0FE;\n",
              "      border: none;\n",
              "      border-radius: 50%;\n",
              "      cursor: pointer;\n",
              "      display: none;\n",
              "      fill: #1967D2;\n",
              "      height: 32px;\n",
              "      padding: 0 0 0 0;\n",
              "      width: 32px;\n",
              "    }\n",
              "\n",
              "    .colab-df-convert:hover {\n",
              "      background-color: #E2EBFA;\n",
              "      box-shadow: 0px 1px 2px rgba(60, 64, 67, 0.3), 0px 1px 3px 1px rgba(60, 64, 67, 0.15);\n",
              "      fill: #174EA6;\n",
              "    }\n",
              "\n",
              "    .colab-df-buttons div {\n",
              "      margin-bottom: 4px;\n",
              "    }\n",
              "\n",
              "    [theme=dark] .colab-df-convert {\n",
              "      background-color: #3B4455;\n",
              "      fill: #D2E3FC;\n",
              "    }\n",
              "\n",
              "    [theme=dark] .colab-df-convert:hover {\n",
              "      background-color: #434B5C;\n",
              "      box-shadow: 0px 1px 3px 1px rgba(0, 0, 0, 0.15);\n",
              "      filter: drop-shadow(0px 1px 2px rgba(0, 0, 0, 0.3));\n",
              "      fill: #FFFFFF;\n",
              "    }\n",
              "  </style>\n",
              "\n",
              "    <script>\n",
              "      const buttonEl =\n",
              "        document.querySelector('#df-ace866f9-9680-4e21-84d1-6f521c2301f0 button.colab-df-convert');\n",
              "      buttonEl.style.display =\n",
              "        google.colab.kernel.accessAllowed ? 'block' : 'none';\n",
              "\n",
              "      async function convertToInteractive(key) {\n",
              "        const element = document.querySelector('#df-ace866f9-9680-4e21-84d1-6f521c2301f0');\n",
              "        const dataTable =\n",
              "          await google.colab.kernel.invokeFunction('convertToInteractive',\n",
              "                                                    [key], {});\n",
              "        if (!dataTable) return;\n",
              "\n",
              "        const docLinkHtml = 'Like what you see? Visit the ' +\n",
              "          '<a target=\"_blank\" href=https://colab.research.google.com/notebooks/data_table.ipynb>data table notebook</a>'\n",
              "          + ' to learn more about interactive tables.';\n",
              "        element.innerHTML = '';\n",
              "        dataTable['output_type'] = 'display_data';\n",
              "        await google.colab.output.renderOutput(dataTable, element);\n",
              "        const docLink = document.createElement('div');\n",
              "        docLink.innerHTML = docLinkHtml;\n",
              "        element.appendChild(docLink);\n",
              "      }\n",
              "    </script>\n",
              "  </div>\n",
              "\n",
              "\n",
              "<div id=\"df-f35f056f-2fd0-4de1-be2f-78434a8f3606\">\n",
              "  <button class=\"colab-df-quickchart\" onclick=\"quickchart('df-f35f056f-2fd0-4de1-be2f-78434a8f3606')\"\n",
              "            title=\"Suggest charts\"\n",
              "            style=\"display:none;\">\n",
              "\n",
              "<svg xmlns=\"http://www.w3.org/2000/svg\" height=\"24px\"viewBox=\"0 0 24 24\"\n",
              "     width=\"24px\">\n",
              "    <g>\n",
              "        <path d=\"M19 3H5c-1.1 0-2 .9-2 2v14c0 1.1.9 2 2 2h14c1.1 0 2-.9 2-2V5c0-1.1-.9-2-2-2zM9 17H7v-7h2v7zm4 0h-2V7h2v10zm4 0h-2v-4h2v4z\"/>\n",
              "    </g>\n",
              "</svg>\n",
              "  </button>\n",
              "\n",
              "<style>\n",
              "  .colab-df-quickchart {\n",
              "      --bg-color: #E8F0FE;\n",
              "      --fill-color: #1967D2;\n",
              "      --hover-bg-color: #E2EBFA;\n",
              "      --hover-fill-color: #174EA6;\n",
              "      --disabled-fill-color: #AAA;\n",
              "      --disabled-bg-color: #DDD;\n",
              "  }\n",
              "\n",
              "  [theme=dark] .colab-df-quickchart {\n",
              "      --bg-color: #3B4455;\n",
              "      --fill-color: #D2E3FC;\n",
              "      --hover-bg-color: #434B5C;\n",
              "      --hover-fill-color: #FFFFFF;\n",
              "      --disabled-bg-color: #3B4455;\n",
              "      --disabled-fill-color: #666;\n",
              "  }\n",
              "\n",
              "  .colab-df-quickchart {\n",
              "    background-color: var(--bg-color);\n",
              "    border: none;\n",
              "    border-radius: 50%;\n",
              "    cursor: pointer;\n",
              "    display: none;\n",
              "    fill: var(--fill-color);\n",
              "    height: 32px;\n",
              "    padding: 0;\n",
              "    width: 32px;\n",
              "  }\n",
              "\n",
              "  .colab-df-quickchart:hover {\n",
              "    background-color: var(--hover-bg-color);\n",
              "    box-shadow: 0 1px 2px rgba(60, 64, 67, 0.3), 0 1px 3px 1px rgba(60, 64, 67, 0.15);\n",
              "    fill: var(--button-hover-fill-color);\n",
              "  }\n",
              "\n",
              "  .colab-df-quickchart-complete:disabled,\n",
              "  .colab-df-quickchart-complete:disabled:hover {\n",
              "    background-color: var(--disabled-bg-color);\n",
              "    fill: var(--disabled-fill-color);\n",
              "    box-shadow: none;\n",
              "  }\n",
              "\n",
              "  .colab-df-spinner {\n",
              "    border: 2px solid var(--fill-color);\n",
              "    border-color: transparent;\n",
              "    border-bottom-color: var(--fill-color);\n",
              "    animation:\n",
              "      spin 1s steps(1) infinite;\n",
              "  }\n",
              "\n",
              "  @keyframes spin {\n",
              "    0% {\n",
              "      border-color: transparent;\n",
              "      border-bottom-color: var(--fill-color);\n",
              "      border-left-color: var(--fill-color);\n",
              "    }\n",
              "    20% {\n",
              "      border-color: transparent;\n",
              "      border-left-color: var(--fill-color);\n",
              "      border-top-color: var(--fill-color);\n",
              "    }\n",
              "    30% {\n",
              "      border-color: transparent;\n",
              "      border-left-color: var(--fill-color);\n",
              "      border-top-color: var(--fill-color);\n",
              "      border-right-color: var(--fill-color);\n",
              "    }\n",
              "    40% {\n",
              "      border-color: transparent;\n",
              "      border-right-color: var(--fill-color);\n",
              "      border-top-color: var(--fill-color);\n",
              "    }\n",
              "    60% {\n",
              "      border-color: transparent;\n",
              "      border-right-color: var(--fill-color);\n",
              "    }\n",
              "    80% {\n",
              "      border-color: transparent;\n",
              "      border-right-color: var(--fill-color);\n",
              "      border-bottom-color: var(--fill-color);\n",
              "    }\n",
              "    90% {\n",
              "      border-color: transparent;\n",
              "      border-bottom-color: var(--fill-color);\n",
              "    }\n",
              "  }\n",
              "</style>\n",
              "\n",
              "  <script>\n",
              "    async function quickchart(key) {\n",
              "      const quickchartButtonEl =\n",
              "        document.querySelector('#' + key + ' button');\n",
              "      quickchartButtonEl.disabled = true;  // To prevent multiple clicks.\n",
              "      quickchartButtonEl.classList.add('colab-df-spinner');\n",
              "      try {\n",
              "        const charts = await google.colab.kernel.invokeFunction(\n",
              "            'suggestCharts', [key], {});\n",
              "      } catch (error) {\n",
              "        console.error('Error during call to suggestCharts:', error);\n",
              "      }\n",
              "      quickchartButtonEl.classList.remove('colab-df-spinner');\n",
              "      quickchartButtonEl.classList.add('colab-df-quickchart-complete');\n",
              "    }\n",
              "    (() => {\n",
              "      let quickchartButtonEl =\n",
              "        document.querySelector('#df-f35f056f-2fd0-4de1-be2f-78434a8f3606 button');\n",
              "      quickchartButtonEl.style.display =\n",
              "        google.colab.kernel.accessAllowed ? 'block' : 'none';\n",
              "    })();\n",
              "  </script>\n",
              "</div>\n",
              "\n",
              "  <div id=\"id_dc585e63-3922-4cbc-9784-574fc858b64a\">\n",
              "    <style>\n",
              "      .colab-df-generate {\n",
              "        background-color: #E8F0FE;\n",
              "        border: none;\n",
              "        border-radius: 50%;\n",
              "        cursor: pointer;\n",
              "        display: none;\n",
              "        fill: #1967D2;\n",
              "        height: 32px;\n",
              "        padding: 0 0 0 0;\n",
              "        width: 32px;\n",
              "      }\n",
              "\n",
              "      .colab-df-generate:hover {\n",
              "        background-color: #E2EBFA;\n",
              "        box-shadow: 0px 1px 2px rgba(60, 64, 67, 0.3), 0px 1px 3px 1px rgba(60, 64, 67, 0.15);\n",
              "        fill: #174EA6;\n",
              "      }\n",
              "\n",
              "      [theme=dark] .colab-df-generate {\n",
              "        background-color: #3B4455;\n",
              "        fill: #D2E3FC;\n",
              "      }\n",
              "\n",
              "      [theme=dark] .colab-df-generate:hover {\n",
              "        background-color: #434B5C;\n",
              "        box-shadow: 0px 1px 3px 1px rgba(0, 0, 0, 0.15);\n",
              "        filter: drop-shadow(0px 1px 2px rgba(0, 0, 0, 0.3));\n",
              "        fill: #FFFFFF;\n",
              "      }\n",
              "    </style>\n",
              "    <button class=\"colab-df-generate\" onclick=\"generateWithVariable('df')\"\n",
              "            title=\"Generate code using this dataframe.\"\n",
              "            style=\"display:none;\">\n",
              "\n",
              "  <svg xmlns=\"http://www.w3.org/2000/svg\" height=\"24px\"viewBox=\"0 0 24 24\"\n",
              "       width=\"24px\">\n",
              "    <path d=\"M7,19H8.4L18.45,9,17,7.55,7,17.6ZM5,21V16.75L18.45,3.32a2,2,0,0,1,2.83,0l1.4,1.43a1.91,1.91,0,0,1,.58,1.4,1.91,1.91,0,0,1-.58,1.4L9.25,21ZM18.45,9,17,7.55Zm-12,3A5.31,5.31,0,0,0,4.9,8.1,5.31,5.31,0,0,0,1,6.5,5.31,5.31,0,0,0,4.9,4.9,5.31,5.31,0,0,0,6.5,1,5.31,5.31,0,0,0,8.1,4.9,5.31,5.31,0,0,0,12,6.5,5.46,5.46,0,0,0,6.5,12Z\"/>\n",
              "  </svg>\n",
              "    </button>\n",
              "    <script>\n",
              "      (() => {\n",
              "      const buttonEl =\n",
              "        document.querySelector('#id_dc585e63-3922-4cbc-9784-574fc858b64a button.colab-df-generate');\n",
              "      buttonEl.style.display =\n",
              "        google.colab.kernel.accessAllowed ? 'block' : 'none';\n",
              "\n",
              "      buttonEl.onclick = () => {\n",
              "        google.colab.notebook.generateWithVariable('df');\n",
              "      }\n",
              "      })();\n",
              "    </script>\n",
              "  </div>\n",
              "\n",
              "    </div>\n",
              "  </div>\n"
            ],
            "application/vnd.google.colaboratory.intrinsic+json": {
              "type": "dataframe",
              "variable_name": "df"
            }
          },
          "metadata": {},
          "execution_count": 178
        }
      ]
    },
    {
      "cell_type": "markdown",
      "source": [
        "to display a concise summary of the DataFrame"
      ],
      "metadata": {
        "id": "wdx2c4NcMYuH"
      }
    },
    {
      "cell_type": "code",
      "source": [
        "df.info()"
      ],
      "metadata": {
        "colab": {
          "base_uri": "https://localhost:8080/"
        },
        "id": "cXILw8ANiEJc",
        "outputId": "8850400e-a838-4e92-ee6d-06f918aa66f0"
      },
      "execution_count": null,
      "outputs": [
        {
          "output_type": "stream",
          "name": "stdout",
          "text": [
            "<class 'pandas.core.frame.DataFrame'>\n",
            "RangeIndex: 1235835 entries, 0 to 1235834\n",
            "Data columns (total 12 columns):\n",
            " #   Column          Non-Null Count    Dtype  \n",
            "---  ------          --------------    -----  \n",
            " 0   id              1235835 non-null  int64  \n",
            " 1   date            1235835 non-null  object \n",
            " 2   client_id       1235835 non-null  int64  \n",
            " 3   card_id         1235835 non-null  int64  \n",
            " 4   amount          1235835 non-null  object \n",
            " 5   use_chip        1235835 non-null  object \n",
            " 6   merchant_id     1235835 non-null  int64  \n",
            " 7   merchant_city   1235835 non-null  object \n",
            " 8   merchant_state  1101569 non-null  object \n",
            " 9   zip             1094372 non-null  float64\n",
            " 10  mcc             1235834 non-null  float64\n",
            " 11  errors          19283 non-null    object \n",
            "dtypes: float64(2), int64(4), object(6)\n",
            "memory usage: 113.1+ MB\n"
          ]
        }
      ]
    },
    {
      "cell_type": "markdown",
      "source": [
        "displaying statistics for both numeric and categorical columns, such as count, mean, unique values, and the most frequent values."
      ],
      "metadata": {
        "id": "VstB4GHEMrJv"
      }
    },
    {
      "cell_type": "code",
      "source": [
        "df.describe(include=\"all\")"
      ],
      "metadata": {
        "colab": {
          "base_uri": "https://localhost:8080/",
          "height": 411
        },
        "id": "B_5u2nXsiLzy",
        "outputId": "98aaa54d-4d4c-40f5-a087-431e9eec9cb5"
      },
      "execution_count": null,
      "outputs": [
        {
          "output_type": "execute_result",
          "data": {
            "text/plain": [
              "                  id                 date     client_id       card_id  \\\n",
              "count   1.235835e+06              1235835  1.235835e+06  1.235835e+06   \n",
              "unique           NaN               410604           NaN           NaN   \n",
              "top              NaN  2010-05-09 09:49:00           NaN           NaN   \n",
              "freq             NaN                   16           NaN           NaN   \n",
              "mean    8.215928e+06                  NaN  1.031671e+03  3.387303e+03   \n",
              "std     4.284543e+05                  NaN  5.824453e+02  1.680928e+03   \n",
              "min     7.475327e+06                  NaN  0.000000e+00  0.000000e+00   \n",
              "25%     7.844764e+06                  NaN  5.150000e+02  2.250000e+03   \n",
              "50%     8.215007e+06                  NaN  1.077000e+03  3.443000e+03   \n",
              "75%     8.586386e+06                  NaN  1.534000e+03  4.737000e+03   \n",
              "max     8.960516e+06                  NaN  1.998000e+03  6.034000e+03   \n",
              "\n",
              "         amount           use_chip   merchant_id merchant_city merchant_state  \\\n",
              "count   1235835            1235835  1.235835e+06       1235835        1101569   \n",
              "unique    37088                  2           NaN          7303            123   \n",
              "top      $80.00  Swipe Transaction           NaN        ONLINE             CA   \n",
              "freq      12934            1101570           NaN        134265         133440   \n",
              "mean        NaN                NaN  4.779296e+04           NaN            NaN   \n",
              "std         NaN                NaN  2.576511e+04           NaN            NaN   \n",
              "min         NaN                NaN  2.000000e+00           NaN            NaN   \n",
              "25%         NaN                NaN  2.588700e+04           NaN            NaN   \n",
              "50%         NaN                NaN  4.628400e+04           NaN            NaN   \n",
              "75%         NaN                NaN  6.757000e+04           NaN            NaN   \n",
              "max         NaN                NaN  1.003410e+05           NaN            NaN   \n",
              "\n",
              "                 zip           mcc                errors  \n",
              "count   1.094372e+06  1.235834e+06                 19283  \n",
              "unique           NaN           NaN                    19  \n",
              "top              NaN           NaN  Insufficient Balance  \n",
              "freq             NaN           NaN                 12000  \n",
              "mean    5.160099e+04  5.564874e+03                   NaN  \n",
              "std     2.939070e+04  8.719809e+02                   NaN  \n",
              "min     1.001000e+03  1.711000e+03                   NaN  \n",
              "25%     2.864300e+04  5.300000e+03                   NaN  \n",
              "50%     4.803600e+04  5.499000e+03                   NaN  \n",
              "75%     7.813000e+04  5.812000e+03                   NaN  \n",
              "max     9.984000e+04  9.402000e+03                   NaN  "
            ],
            "text/html": [
              "\n",
              "  <div id=\"df-e4431d42-7379-4517-9b30-8f4871c34033\" class=\"colab-df-container\">\n",
              "    <div>\n",
              "<style scoped>\n",
              "    .dataframe tbody tr th:only-of-type {\n",
              "        vertical-align: middle;\n",
              "    }\n",
              "\n",
              "    .dataframe tbody tr th {\n",
              "        vertical-align: top;\n",
              "    }\n",
              "\n",
              "    .dataframe thead th {\n",
              "        text-align: right;\n",
              "    }\n",
              "</style>\n",
              "<table border=\"1\" class=\"dataframe\">\n",
              "  <thead>\n",
              "    <tr style=\"text-align: right;\">\n",
              "      <th></th>\n",
              "      <th>id</th>\n",
              "      <th>date</th>\n",
              "      <th>client_id</th>\n",
              "      <th>card_id</th>\n",
              "      <th>amount</th>\n",
              "      <th>use_chip</th>\n",
              "      <th>merchant_id</th>\n",
              "      <th>merchant_city</th>\n",
              "      <th>merchant_state</th>\n",
              "      <th>zip</th>\n",
              "      <th>mcc</th>\n",
              "      <th>errors</th>\n",
              "    </tr>\n",
              "  </thead>\n",
              "  <tbody>\n",
              "    <tr>\n",
              "      <th>count</th>\n",
              "      <td>1.235835e+06</td>\n",
              "      <td>1235835</td>\n",
              "      <td>1.235835e+06</td>\n",
              "      <td>1.235835e+06</td>\n",
              "      <td>1235835</td>\n",
              "      <td>1235835</td>\n",
              "      <td>1.235835e+06</td>\n",
              "      <td>1235835</td>\n",
              "      <td>1101569</td>\n",
              "      <td>1.094372e+06</td>\n",
              "      <td>1.235834e+06</td>\n",
              "      <td>19283</td>\n",
              "    </tr>\n",
              "    <tr>\n",
              "      <th>unique</th>\n",
              "      <td>NaN</td>\n",
              "      <td>410604</td>\n",
              "      <td>NaN</td>\n",
              "      <td>NaN</td>\n",
              "      <td>37088</td>\n",
              "      <td>2</td>\n",
              "      <td>NaN</td>\n",
              "      <td>7303</td>\n",
              "      <td>123</td>\n",
              "      <td>NaN</td>\n",
              "      <td>NaN</td>\n",
              "      <td>19</td>\n",
              "    </tr>\n",
              "    <tr>\n",
              "      <th>top</th>\n",
              "      <td>NaN</td>\n",
              "      <td>2010-05-09 09:49:00</td>\n",
              "      <td>NaN</td>\n",
              "      <td>NaN</td>\n",
              "      <td>$80.00</td>\n",
              "      <td>Swipe Transaction</td>\n",
              "      <td>NaN</td>\n",
              "      <td>ONLINE</td>\n",
              "      <td>CA</td>\n",
              "      <td>NaN</td>\n",
              "      <td>NaN</td>\n",
              "      <td>Insufficient Balance</td>\n",
              "    </tr>\n",
              "    <tr>\n",
              "      <th>freq</th>\n",
              "      <td>NaN</td>\n",
              "      <td>16</td>\n",
              "      <td>NaN</td>\n",
              "      <td>NaN</td>\n",
              "      <td>12934</td>\n",
              "      <td>1101570</td>\n",
              "      <td>NaN</td>\n",
              "      <td>134265</td>\n",
              "      <td>133440</td>\n",
              "      <td>NaN</td>\n",
              "      <td>NaN</td>\n",
              "      <td>12000</td>\n",
              "    </tr>\n",
              "    <tr>\n",
              "      <th>mean</th>\n",
              "      <td>8.215928e+06</td>\n",
              "      <td>NaN</td>\n",
              "      <td>1.031671e+03</td>\n",
              "      <td>3.387303e+03</td>\n",
              "      <td>NaN</td>\n",
              "      <td>NaN</td>\n",
              "      <td>4.779296e+04</td>\n",
              "      <td>NaN</td>\n",
              "      <td>NaN</td>\n",
              "      <td>5.160099e+04</td>\n",
              "      <td>5.564874e+03</td>\n",
              "      <td>NaN</td>\n",
              "    </tr>\n",
              "    <tr>\n",
              "      <th>std</th>\n",
              "      <td>4.284543e+05</td>\n",
              "      <td>NaN</td>\n",
              "      <td>5.824453e+02</td>\n",
              "      <td>1.680928e+03</td>\n",
              "      <td>NaN</td>\n",
              "      <td>NaN</td>\n",
              "      <td>2.576511e+04</td>\n",
              "      <td>NaN</td>\n",
              "      <td>NaN</td>\n",
              "      <td>2.939070e+04</td>\n",
              "      <td>8.719809e+02</td>\n",
              "      <td>NaN</td>\n",
              "    </tr>\n",
              "    <tr>\n",
              "      <th>min</th>\n",
              "      <td>7.475327e+06</td>\n",
              "      <td>NaN</td>\n",
              "      <td>0.000000e+00</td>\n",
              "      <td>0.000000e+00</td>\n",
              "      <td>NaN</td>\n",
              "      <td>NaN</td>\n",
              "      <td>2.000000e+00</td>\n",
              "      <td>NaN</td>\n",
              "      <td>NaN</td>\n",
              "      <td>1.001000e+03</td>\n",
              "      <td>1.711000e+03</td>\n",
              "      <td>NaN</td>\n",
              "    </tr>\n",
              "    <tr>\n",
              "      <th>25%</th>\n",
              "      <td>7.844764e+06</td>\n",
              "      <td>NaN</td>\n",
              "      <td>5.150000e+02</td>\n",
              "      <td>2.250000e+03</td>\n",
              "      <td>NaN</td>\n",
              "      <td>NaN</td>\n",
              "      <td>2.588700e+04</td>\n",
              "      <td>NaN</td>\n",
              "      <td>NaN</td>\n",
              "      <td>2.864300e+04</td>\n",
              "      <td>5.300000e+03</td>\n",
              "      <td>NaN</td>\n",
              "    </tr>\n",
              "    <tr>\n",
              "      <th>50%</th>\n",
              "      <td>8.215007e+06</td>\n",
              "      <td>NaN</td>\n",
              "      <td>1.077000e+03</td>\n",
              "      <td>3.443000e+03</td>\n",
              "      <td>NaN</td>\n",
              "      <td>NaN</td>\n",
              "      <td>4.628400e+04</td>\n",
              "      <td>NaN</td>\n",
              "      <td>NaN</td>\n",
              "      <td>4.803600e+04</td>\n",
              "      <td>5.499000e+03</td>\n",
              "      <td>NaN</td>\n",
              "    </tr>\n",
              "    <tr>\n",
              "      <th>75%</th>\n",
              "      <td>8.586386e+06</td>\n",
              "      <td>NaN</td>\n",
              "      <td>1.534000e+03</td>\n",
              "      <td>4.737000e+03</td>\n",
              "      <td>NaN</td>\n",
              "      <td>NaN</td>\n",
              "      <td>6.757000e+04</td>\n",
              "      <td>NaN</td>\n",
              "      <td>NaN</td>\n",
              "      <td>7.813000e+04</td>\n",
              "      <td>5.812000e+03</td>\n",
              "      <td>NaN</td>\n",
              "    </tr>\n",
              "    <tr>\n",
              "      <th>max</th>\n",
              "      <td>8.960516e+06</td>\n",
              "      <td>NaN</td>\n",
              "      <td>1.998000e+03</td>\n",
              "      <td>6.034000e+03</td>\n",
              "      <td>NaN</td>\n",
              "      <td>NaN</td>\n",
              "      <td>1.003410e+05</td>\n",
              "      <td>NaN</td>\n",
              "      <td>NaN</td>\n",
              "      <td>9.984000e+04</td>\n",
              "      <td>9.402000e+03</td>\n",
              "      <td>NaN</td>\n",
              "    </tr>\n",
              "  </tbody>\n",
              "</table>\n",
              "</div>\n",
              "    <div class=\"colab-df-buttons\">\n",
              "\n",
              "  <div class=\"colab-df-container\">\n",
              "    <button class=\"colab-df-convert\" onclick=\"convertToInteractive('df-e4431d42-7379-4517-9b30-8f4871c34033')\"\n",
              "            title=\"Convert this dataframe to an interactive table.\"\n",
              "            style=\"display:none;\">\n",
              "\n",
              "  <svg xmlns=\"http://www.w3.org/2000/svg\" height=\"24px\" viewBox=\"0 -960 960 960\">\n",
              "    <path d=\"M120-120v-720h720v720H120Zm60-500h600v-160H180v160Zm220 220h160v-160H400v160Zm0 220h160v-160H400v160ZM180-400h160v-160H180v160Zm440 0h160v-160H620v160ZM180-180h160v-160H180v160Zm440 0h160v-160H620v160Z\"/>\n",
              "  </svg>\n",
              "    </button>\n",
              "\n",
              "  <style>\n",
              "    .colab-df-container {\n",
              "      display:flex;\n",
              "      gap: 12px;\n",
              "    }\n",
              "\n",
              "    .colab-df-convert {\n",
              "      background-color: #E8F0FE;\n",
              "      border: none;\n",
              "      border-radius: 50%;\n",
              "      cursor: pointer;\n",
              "      display: none;\n",
              "      fill: #1967D2;\n",
              "      height: 32px;\n",
              "      padding: 0 0 0 0;\n",
              "      width: 32px;\n",
              "    }\n",
              "\n",
              "    .colab-df-convert:hover {\n",
              "      background-color: #E2EBFA;\n",
              "      box-shadow: 0px 1px 2px rgba(60, 64, 67, 0.3), 0px 1px 3px 1px rgba(60, 64, 67, 0.15);\n",
              "      fill: #174EA6;\n",
              "    }\n",
              "\n",
              "    .colab-df-buttons div {\n",
              "      margin-bottom: 4px;\n",
              "    }\n",
              "\n",
              "    [theme=dark] .colab-df-convert {\n",
              "      background-color: #3B4455;\n",
              "      fill: #D2E3FC;\n",
              "    }\n",
              "\n",
              "    [theme=dark] .colab-df-convert:hover {\n",
              "      background-color: #434B5C;\n",
              "      box-shadow: 0px 1px 3px 1px rgba(0, 0, 0, 0.15);\n",
              "      filter: drop-shadow(0px 1px 2px rgba(0, 0, 0, 0.3));\n",
              "      fill: #FFFFFF;\n",
              "    }\n",
              "  </style>\n",
              "\n",
              "    <script>\n",
              "      const buttonEl =\n",
              "        document.querySelector('#df-e4431d42-7379-4517-9b30-8f4871c34033 button.colab-df-convert');\n",
              "      buttonEl.style.display =\n",
              "        google.colab.kernel.accessAllowed ? 'block' : 'none';\n",
              "\n",
              "      async function convertToInteractive(key) {\n",
              "        const element = document.querySelector('#df-e4431d42-7379-4517-9b30-8f4871c34033');\n",
              "        const dataTable =\n",
              "          await google.colab.kernel.invokeFunction('convertToInteractive',\n",
              "                                                    [key], {});\n",
              "        if (!dataTable) return;\n",
              "\n",
              "        const docLinkHtml = 'Like what you see? Visit the ' +\n",
              "          '<a target=\"_blank\" href=https://colab.research.google.com/notebooks/data_table.ipynb>data table notebook</a>'\n",
              "          + ' to learn more about interactive tables.';\n",
              "        element.innerHTML = '';\n",
              "        dataTable['output_type'] = 'display_data';\n",
              "        await google.colab.output.renderOutput(dataTable, element);\n",
              "        const docLink = document.createElement('div');\n",
              "        docLink.innerHTML = docLinkHtml;\n",
              "        element.appendChild(docLink);\n",
              "      }\n",
              "    </script>\n",
              "  </div>\n",
              "\n",
              "\n",
              "<div id=\"df-1da112b2-11dc-410b-b1ab-e186851d8af6\">\n",
              "  <button class=\"colab-df-quickchart\" onclick=\"quickchart('df-1da112b2-11dc-410b-b1ab-e186851d8af6')\"\n",
              "            title=\"Suggest charts\"\n",
              "            style=\"display:none;\">\n",
              "\n",
              "<svg xmlns=\"http://www.w3.org/2000/svg\" height=\"24px\"viewBox=\"0 0 24 24\"\n",
              "     width=\"24px\">\n",
              "    <g>\n",
              "        <path d=\"M19 3H5c-1.1 0-2 .9-2 2v14c0 1.1.9 2 2 2h14c1.1 0 2-.9 2-2V5c0-1.1-.9-2-2-2zM9 17H7v-7h2v7zm4 0h-2V7h2v10zm4 0h-2v-4h2v4z\"/>\n",
              "    </g>\n",
              "</svg>\n",
              "  </button>\n",
              "\n",
              "<style>\n",
              "  .colab-df-quickchart {\n",
              "      --bg-color: #E8F0FE;\n",
              "      --fill-color: #1967D2;\n",
              "      --hover-bg-color: #E2EBFA;\n",
              "      --hover-fill-color: #174EA6;\n",
              "      --disabled-fill-color: #AAA;\n",
              "      --disabled-bg-color: #DDD;\n",
              "  }\n",
              "\n",
              "  [theme=dark] .colab-df-quickchart {\n",
              "      --bg-color: #3B4455;\n",
              "      --fill-color: #D2E3FC;\n",
              "      --hover-bg-color: #434B5C;\n",
              "      --hover-fill-color: #FFFFFF;\n",
              "      --disabled-bg-color: #3B4455;\n",
              "      --disabled-fill-color: #666;\n",
              "  }\n",
              "\n",
              "  .colab-df-quickchart {\n",
              "    background-color: var(--bg-color);\n",
              "    border: none;\n",
              "    border-radius: 50%;\n",
              "    cursor: pointer;\n",
              "    display: none;\n",
              "    fill: var(--fill-color);\n",
              "    height: 32px;\n",
              "    padding: 0;\n",
              "    width: 32px;\n",
              "  }\n",
              "\n",
              "  .colab-df-quickchart:hover {\n",
              "    background-color: var(--hover-bg-color);\n",
              "    box-shadow: 0 1px 2px rgba(60, 64, 67, 0.3), 0 1px 3px 1px rgba(60, 64, 67, 0.15);\n",
              "    fill: var(--button-hover-fill-color);\n",
              "  }\n",
              "\n",
              "  .colab-df-quickchart-complete:disabled,\n",
              "  .colab-df-quickchart-complete:disabled:hover {\n",
              "    background-color: var(--disabled-bg-color);\n",
              "    fill: var(--disabled-fill-color);\n",
              "    box-shadow: none;\n",
              "  }\n",
              "\n",
              "  .colab-df-spinner {\n",
              "    border: 2px solid var(--fill-color);\n",
              "    border-color: transparent;\n",
              "    border-bottom-color: var(--fill-color);\n",
              "    animation:\n",
              "      spin 1s steps(1) infinite;\n",
              "  }\n",
              "\n",
              "  @keyframes spin {\n",
              "    0% {\n",
              "      border-color: transparent;\n",
              "      border-bottom-color: var(--fill-color);\n",
              "      border-left-color: var(--fill-color);\n",
              "    }\n",
              "    20% {\n",
              "      border-color: transparent;\n",
              "      border-left-color: var(--fill-color);\n",
              "      border-top-color: var(--fill-color);\n",
              "    }\n",
              "    30% {\n",
              "      border-color: transparent;\n",
              "      border-left-color: var(--fill-color);\n",
              "      border-top-color: var(--fill-color);\n",
              "      border-right-color: var(--fill-color);\n",
              "    }\n",
              "    40% {\n",
              "      border-color: transparent;\n",
              "      border-right-color: var(--fill-color);\n",
              "      border-top-color: var(--fill-color);\n",
              "    }\n",
              "    60% {\n",
              "      border-color: transparent;\n",
              "      border-right-color: var(--fill-color);\n",
              "    }\n",
              "    80% {\n",
              "      border-color: transparent;\n",
              "      border-right-color: var(--fill-color);\n",
              "      border-bottom-color: var(--fill-color);\n",
              "    }\n",
              "    90% {\n",
              "      border-color: transparent;\n",
              "      border-bottom-color: var(--fill-color);\n",
              "    }\n",
              "  }\n",
              "</style>\n",
              "\n",
              "  <script>\n",
              "    async function quickchart(key) {\n",
              "      const quickchartButtonEl =\n",
              "        document.querySelector('#' + key + ' button');\n",
              "      quickchartButtonEl.disabled = true;  // To prevent multiple clicks.\n",
              "      quickchartButtonEl.classList.add('colab-df-spinner');\n",
              "      try {\n",
              "        const charts = await google.colab.kernel.invokeFunction(\n",
              "            'suggestCharts', [key], {});\n",
              "      } catch (error) {\n",
              "        console.error('Error during call to suggestCharts:', error);\n",
              "      }\n",
              "      quickchartButtonEl.classList.remove('colab-df-spinner');\n",
              "      quickchartButtonEl.classList.add('colab-df-quickchart-complete');\n",
              "    }\n",
              "    (() => {\n",
              "      let quickchartButtonEl =\n",
              "        document.querySelector('#df-1da112b2-11dc-410b-b1ab-e186851d8af6 button');\n",
              "      quickchartButtonEl.style.display =\n",
              "        google.colab.kernel.accessAllowed ? 'block' : 'none';\n",
              "    })();\n",
              "  </script>\n",
              "</div>\n",
              "\n",
              "    </div>\n",
              "  </div>\n"
            ],
            "application/vnd.google.colaboratory.intrinsic+json": {
              "type": "dataframe",
              "summary": "{\n  \"name\": \"df\",\n  \"rows\": 11,\n  \"fields\": [\n    {\n      \"column\": \"id\",\n      \"properties\": {\n        \"dtype\": \"number\",\n        \"std\": 3453630.2780811265,\n        \"min\": 428454.3044338788,\n        \"max\": 8960516.0,\n        \"num_unique_values\": 8,\n        \"samples\": [\n          8215927.571119931,\n          8215007.0,\n          1235835.0\n        ],\n        \"semantic_type\": \"\",\n        \"description\": \"\"\n      }\n    },\n    {\n      \"column\": \"date\",\n      \"properties\": {\n        \"dtype\": \"date\",\n        \"min\": \"1970-01-01 00:00:00.000000016\",\n        \"max\": \"2010-05-09 09:49:00\",\n        \"num_unique_values\": 4,\n        \"samples\": [\n          410604,\n          \"16\",\n          \"1235835\"\n        ],\n        \"semantic_type\": \"\",\n        \"description\": \"\"\n      }\n    },\n    {\n      \"column\": \"client_id\",\n      \"properties\": {\n        \"dtype\": \"number\",\n        \"std\": 436593.76796582085,\n        \"min\": 0.0,\n        \"max\": 1235835.0,\n        \"num_unique_values\": 8,\n        \"samples\": [\n          1031.6705636270215,\n          1077.0,\n          1235835.0\n        ],\n        \"semantic_type\": \"\",\n        \"description\": \"\"\n      }\n    },\n    {\n      \"column\": \"card_id\",\n      \"properties\": {\n        \"dtype\": \"number\",\n        \"std\": 435850.0180100362,\n        \"min\": 0.0,\n        \"max\": 1235835.0,\n        \"num_unique_values\": 8,\n        \"samples\": [\n          3387.3031197530413,\n          3443.0,\n          1235835.0\n        ],\n        \"semantic_type\": \"\",\n        \"description\": \"\"\n      }\n    },\n    {\n      \"column\": \"amount\",\n      \"properties\": {\n        \"dtype\": \"category\",\n        \"num_unique_values\": 4,\n        \"samples\": [\n          37088,\n          \"12934\",\n          \"1235835\"\n        ],\n        \"semantic_type\": \"\",\n        \"description\": \"\"\n      }\n    },\n    {\n      \"column\": \"use_chip\",\n      \"properties\": {\n        \"dtype\": \"category\",\n        \"num_unique_values\": 4,\n        \"samples\": [\n          2,\n          \"1101570\",\n          \"1235835\"\n        ],\n        \"semantic_type\": \"\",\n        \"description\": \"\"\n      }\n    },\n    {\n      \"column\": \"merchant_id\",\n      \"properties\": {\n        \"dtype\": \"number\",\n        \"std\": 422166.6263825561,\n        \"min\": 2.0,\n        \"max\": 1235835.0,\n        \"num_unique_values\": 8,\n        \"samples\": [\n          47792.956295136486,\n          46284.0,\n          1235835.0\n        ],\n        \"semantic_type\": \"\",\n        \"description\": \"\"\n      }\n    },\n    {\n      \"column\": \"merchant_city\",\n      \"properties\": {\n        \"dtype\": \"category\",\n        \"num_unique_values\": 4,\n        \"samples\": [\n          7303,\n          \"134265\",\n          \"1235835\"\n        ],\n        \"semantic_type\": \"\",\n        \"description\": \"\"\n      }\n    },\n    {\n      \"column\": \"merchant_state\",\n      \"properties\": {\n        \"dtype\": \"category\",\n        \"num_unique_values\": 4,\n        \"samples\": [\n          123,\n          \"133440\",\n          \"1101569\"\n        ],\n        \"semantic_type\": \"\",\n        \"description\": \"\"\n      }\n    },\n    {\n      \"column\": \"zip\",\n      \"properties\": {\n        \"dtype\": \"number\",\n        \"std\": 371176.26371461165,\n        \"min\": 1001.0,\n        \"max\": 1094372.0,\n        \"num_unique_values\": 8,\n        \"samples\": [\n          51600.989427726585,\n          48036.0,\n          1094372.0\n        ],\n        \"semantic_type\": \"\",\n        \"description\": \"\"\n      }\n    },\n    {\n      \"column\": \"mcc\",\n      \"properties\": {\n        \"dtype\": \"number\",\n        \"std\": 435215.8693712803,\n        \"min\": 871.9808799676215,\n        \"max\": 1235834.0,\n        \"num_unique_values\": 8,\n        \"samples\": [\n          5564.874337491929,\n          5499.0,\n          1235834.0\n        ],\n        \"semantic_type\": \"\",\n        \"description\": \"\"\n      }\n    },\n    {\n      \"column\": \"errors\",\n      \"properties\": {\n        \"dtype\": \"category\",\n        \"num_unique_values\": 4,\n        \"samples\": [\n          19,\n          \"12000\",\n          \"19283\"\n        ],\n        \"semantic_type\": \"\",\n        \"description\": \"\"\n      }\n    }\n  ]\n}"
            }
          },
          "metadata": {},
          "execution_count": 180
        }
      ]
    },
    {
      "cell_type": "markdown",
      "source": [
        "to check what are the columns are present"
      ],
      "metadata": {
        "id": "iW5YoQoMMvFP"
      }
    },
    {
      "cell_type": "code",
      "source": [
        "df.columns"
      ],
      "metadata": {
        "colab": {
          "base_uri": "https://localhost:8080/"
        },
        "id": "wAQfPNDqiR6Q",
        "outputId": "cc7c8d61-9cd1-4127-e5e6-03ebad3af23c"
      },
      "execution_count": null,
      "outputs": [
        {
          "output_type": "execute_result",
          "data": {
            "text/plain": [
              "Index(['id', 'date', 'client_id', 'card_id', 'amount', 'use_chip',\n",
              "       'merchant_id', 'merchant_city', 'merchant_state', 'zip', 'mcc',\n",
              "       'errors'],\n",
              "      dtype='object')"
            ]
          },
          "metadata": {},
          "execution_count": 181
        }
      ]
    },
    {
      "cell_type": "markdown",
      "source": [
        "to count the number of null values"
      ],
      "metadata": {
        "id": "BgaUCVfhM4YA"
      }
    },
    {
      "cell_type": "code",
      "source": [
        "df.isnull().sum()"
      ],
      "metadata": {
        "colab": {
          "base_uri": "https://localhost:8080/",
          "height": 460
        },
        "id": "Jw2_wcx-iecM",
        "outputId": "e631f4e0-0f50-4345-ccab-6a773502fa56"
      },
      "execution_count": null,
      "outputs": [
        {
          "output_type": "execute_result",
          "data": {
            "text/plain": [
              "id                      0\n",
              "date                    0\n",
              "client_id               0\n",
              "card_id                 0\n",
              "amount                  0\n",
              "use_chip                0\n",
              "merchant_id             0\n",
              "merchant_city           0\n",
              "merchant_state     134266\n",
              "zip                141463\n",
              "mcc                     1\n",
              "errors            1216552\n",
              "dtype: int64"
            ],
            "text/html": [
              "<div>\n",
              "<style scoped>\n",
              "    .dataframe tbody tr th:only-of-type {\n",
              "        vertical-align: middle;\n",
              "    }\n",
              "\n",
              "    .dataframe tbody tr th {\n",
              "        vertical-align: top;\n",
              "    }\n",
              "\n",
              "    .dataframe thead th {\n",
              "        text-align: right;\n",
              "    }\n",
              "</style>\n",
              "<table border=\"1\" class=\"dataframe\">\n",
              "  <thead>\n",
              "    <tr style=\"text-align: right;\">\n",
              "      <th></th>\n",
              "      <th>0</th>\n",
              "    </tr>\n",
              "  </thead>\n",
              "  <tbody>\n",
              "    <tr>\n",
              "      <th>id</th>\n",
              "      <td>0</td>\n",
              "    </tr>\n",
              "    <tr>\n",
              "      <th>date</th>\n",
              "      <td>0</td>\n",
              "    </tr>\n",
              "    <tr>\n",
              "      <th>client_id</th>\n",
              "      <td>0</td>\n",
              "    </tr>\n",
              "    <tr>\n",
              "      <th>card_id</th>\n",
              "      <td>0</td>\n",
              "    </tr>\n",
              "    <tr>\n",
              "      <th>amount</th>\n",
              "      <td>0</td>\n",
              "    </tr>\n",
              "    <tr>\n",
              "      <th>use_chip</th>\n",
              "      <td>0</td>\n",
              "    </tr>\n",
              "    <tr>\n",
              "      <th>merchant_id</th>\n",
              "      <td>0</td>\n",
              "    </tr>\n",
              "    <tr>\n",
              "      <th>merchant_city</th>\n",
              "      <td>0</td>\n",
              "    </tr>\n",
              "    <tr>\n",
              "      <th>merchant_state</th>\n",
              "      <td>134266</td>\n",
              "    </tr>\n",
              "    <tr>\n",
              "      <th>zip</th>\n",
              "      <td>141463</td>\n",
              "    </tr>\n",
              "    <tr>\n",
              "      <th>mcc</th>\n",
              "      <td>1</td>\n",
              "    </tr>\n",
              "    <tr>\n",
              "      <th>errors</th>\n",
              "      <td>1216552</td>\n",
              "    </tr>\n",
              "  </tbody>\n",
              "</table>\n",
              "</div><br><label><b>dtype:</b> int64</label>"
            ]
          },
          "metadata": {},
          "execution_count": 182
        }
      ]
    },
    {
      "cell_type": "markdown",
      "source": [
        "in percentage"
      ],
      "metadata": {
        "id": "eECWIfbnNCV1"
      }
    },
    {
      "cell_type": "code",
      "source": [
        "miss_percentage = f\"{((df.isnull().sum())/(len(df))*100).round(2)}%\"\n",
        "miss_percentage"
      ],
      "metadata": {
        "colab": {
          "base_uri": "https://localhost:8080/",
          "height": 53
        },
        "id": "83hkn0rEikcv",
        "outputId": "30ebab8f-35af-4c45-f344-c8cf28caad63"
      },
      "execution_count": null,
      "outputs": [
        {
          "output_type": "execute_result",
          "data": {
            "text/plain": [
              "'id                 0.00\\ndate               0.00\\nclient_id          0.00\\ncard_id            0.00\\namount             0.00\\nuse_chip           0.00\\nmerchant_id        0.00\\nmerchant_city      0.00\\nmerchant_state    10.86\\nzip               11.45\\nmcc                0.00\\nerrors            98.44\\ndtype: float64%'"
            ],
            "application/vnd.google.colaboratory.intrinsic+json": {
              "type": "string"
            }
          },
          "metadata": {},
          "execution_count": 183
        }
      ]
    },
    {
      "cell_type": "markdown",
      "source": [
        "in this date contains month year date so we want separate columns for each\n"
      ],
      "metadata": {
        "id": "4qmrfo6jNHBo"
      }
    },
    {
      "cell_type": "code",
      "source": [
        "df.date"
      ],
      "metadata": {
        "colab": {
          "base_uri": "https://localhost:8080/",
          "height": 458
        },
        "id": "ZwLeYTdljEEZ",
        "outputId": "f88c9302-3ce5-4ac7-d5b4-7e6306e863a0"
      },
      "execution_count": null,
      "outputs": [
        {
          "output_type": "execute_result",
          "data": {
            "text/plain": [
              "0          2010-01-01 00:01:00\n",
              "1          2010-01-01 00:02:00\n",
              "2          2010-01-01 00:02:00\n",
              "3          2010-01-01 00:05:00\n",
              "4          2010-01-01 00:06:00\n",
              "                  ...         \n",
              "1235830    2010-12-30 12:41:00\n",
              "1235831    2010-12-30 12:41:00\n",
              "1235832    2010-12-30 12:41:00\n",
              "1235833    2010-12-30 12:41:00\n",
              "1235834    2010-12-30 12:41:00\n",
              "Name: date, Length: 1235835, dtype: object"
            ],
            "text/html": [
              "<div>\n",
              "<style scoped>\n",
              "    .dataframe tbody tr th:only-of-type {\n",
              "        vertical-align: middle;\n",
              "    }\n",
              "\n",
              "    .dataframe tbody tr th {\n",
              "        vertical-align: top;\n",
              "    }\n",
              "\n",
              "    .dataframe thead th {\n",
              "        text-align: right;\n",
              "    }\n",
              "</style>\n",
              "<table border=\"1\" class=\"dataframe\">\n",
              "  <thead>\n",
              "    <tr style=\"text-align: right;\">\n",
              "      <th></th>\n",
              "      <th>date</th>\n",
              "    </tr>\n",
              "  </thead>\n",
              "  <tbody>\n",
              "    <tr>\n",
              "      <th>0</th>\n",
              "      <td>2010-01-01 00:01:00</td>\n",
              "    </tr>\n",
              "    <tr>\n",
              "      <th>1</th>\n",
              "      <td>2010-01-01 00:02:00</td>\n",
              "    </tr>\n",
              "    <tr>\n",
              "      <th>2</th>\n",
              "      <td>2010-01-01 00:02:00</td>\n",
              "    </tr>\n",
              "    <tr>\n",
              "      <th>3</th>\n",
              "      <td>2010-01-01 00:05:00</td>\n",
              "    </tr>\n",
              "    <tr>\n",
              "      <th>4</th>\n",
              "      <td>2010-01-01 00:06:00</td>\n",
              "    </tr>\n",
              "    <tr>\n",
              "      <th>...</th>\n",
              "      <td>...</td>\n",
              "    </tr>\n",
              "    <tr>\n",
              "      <th>1235830</th>\n",
              "      <td>2010-12-30 12:41:00</td>\n",
              "    </tr>\n",
              "    <tr>\n",
              "      <th>1235831</th>\n",
              "      <td>2010-12-30 12:41:00</td>\n",
              "    </tr>\n",
              "    <tr>\n",
              "      <th>1235832</th>\n",
              "      <td>2010-12-30 12:41:00</td>\n",
              "    </tr>\n",
              "    <tr>\n",
              "      <th>1235833</th>\n",
              "      <td>2010-12-30 12:41:00</td>\n",
              "    </tr>\n",
              "    <tr>\n",
              "      <th>1235834</th>\n",
              "      <td>2010-12-30 12:41:00</td>\n",
              "    </tr>\n",
              "  </tbody>\n",
              "</table>\n",
              "<p>1235835 rows × 1 columns</p>\n",
              "</div><br><label><b>dtype:</b> object</label>"
            ]
          },
          "metadata": {},
          "execution_count": 184
        }
      ]
    },
    {
      "cell_type": "markdown",
      "source": [
        "Separating the dau month year"
      ],
      "metadata": {
        "id": "UsMHiAjWNRSN"
      }
    },
    {
      "cell_type": "code",
      "source": [
        "df['date'] = pd.to_datetime(df['date'])\n",
        "df['day'] = df['date'].dt.day\n",
        "df['month'] = df['date'].dt.month\n",
        "df['year'] = df['date'].dt.year\n",
        "\n",
        "print(df[['day', 'month', 'year']])"
      ],
      "metadata": {
        "colab": {
          "base_uri": "https://localhost:8080/"
        },
        "id": "bZPUm7UDjWjl",
        "outputId": "d9ebd9d1-0168-4022-a071-2a5a4e97fd73"
      },
      "execution_count": null,
      "outputs": [
        {
          "output_type": "stream",
          "name": "stdout",
          "text": [
            "         day  month  year\n",
            "0          1      1  2010\n",
            "1          1      1  2010\n",
            "2          1      1  2010\n",
            "3          1      1  2010\n",
            "4          1      1  2010\n",
            "...      ...    ...   ...\n",
            "1235830   30     12  2010\n",
            "1235831   30     12  2010\n",
            "1235832   30     12  2010\n",
            "1235833   30     12  2010\n",
            "1235834   30     12  2010\n",
            "\n",
            "[1235835 rows x 3 columns]\n"
          ]
        }
      ]
    },
    {
      "cell_type": "code",
      "source": [
        "df.head()"
      ],
      "metadata": {
        "colab": {
          "base_uri": "https://localhost:8080/",
          "height": 206
        },
        "id": "0vZFPfmMj_QQ",
        "outputId": "fb2f29f1-6ae9-419d-a508-92dc28f0c282"
      },
      "execution_count": null,
      "outputs": [
        {
          "output_type": "execute_result",
          "data": {
            "text/plain": [
              "        id                date  client_id  card_id   amount  \\\n",
              "0  7475327 2010-01-01 00:01:00       1556     2972  $-77.00   \n",
              "1  7475328 2010-01-01 00:02:00        561     4575   $14.57   \n",
              "2  7475329 2010-01-01 00:02:00       1129      102   $80.00   \n",
              "3  7475331 2010-01-01 00:05:00        430     2860  $200.00   \n",
              "4  7475332 2010-01-01 00:06:00        848     3915   $46.41   \n",
              "\n",
              "            use_chip  merchant_id merchant_city merchant_state      zip  \\\n",
              "0  Swipe Transaction        59935        Beulah             ND  58523.0   \n",
              "1  Swipe Transaction        67570    Bettendorf             IA  52722.0   \n",
              "2  Swipe Transaction        27092         Vista             CA  92084.0   \n",
              "3  Swipe Transaction        27092   Crown Point             IN  46307.0   \n",
              "4  Swipe Transaction        13051       Harwood             MD  20776.0   \n",
              "\n",
              "      mcc errors  day  month  year  \n",
              "0  5499.0    NaN    1      1  2010  \n",
              "1  5311.0    NaN    1      1  2010  \n",
              "2  4829.0    NaN    1      1  2010  \n",
              "3  4829.0    NaN    1      1  2010  \n",
              "4  5813.0    NaN    1      1  2010  "
            ],
            "text/html": [
              "\n",
              "  <div id=\"df-f07df6fd-9a07-48eb-acde-a7352121adc9\" class=\"colab-df-container\">\n",
              "    <div>\n",
              "<style scoped>\n",
              "    .dataframe tbody tr th:only-of-type {\n",
              "        vertical-align: middle;\n",
              "    }\n",
              "\n",
              "    .dataframe tbody tr th {\n",
              "        vertical-align: top;\n",
              "    }\n",
              "\n",
              "    .dataframe thead th {\n",
              "        text-align: right;\n",
              "    }\n",
              "</style>\n",
              "<table border=\"1\" class=\"dataframe\">\n",
              "  <thead>\n",
              "    <tr style=\"text-align: right;\">\n",
              "      <th></th>\n",
              "      <th>id</th>\n",
              "      <th>date</th>\n",
              "      <th>client_id</th>\n",
              "      <th>card_id</th>\n",
              "      <th>amount</th>\n",
              "      <th>use_chip</th>\n",
              "      <th>merchant_id</th>\n",
              "      <th>merchant_city</th>\n",
              "      <th>merchant_state</th>\n",
              "      <th>zip</th>\n",
              "      <th>mcc</th>\n",
              "      <th>errors</th>\n",
              "      <th>day</th>\n",
              "      <th>month</th>\n",
              "      <th>year</th>\n",
              "    </tr>\n",
              "  </thead>\n",
              "  <tbody>\n",
              "    <tr>\n",
              "      <th>0</th>\n",
              "      <td>7475327</td>\n",
              "      <td>2010-01-01 00:01:00</td>\n",
              "      <td>1556</td>\n",
              "      <td>2972</td>\n",
              "      <td>$-77.00</td>\n",
              "      <td>Swipe Transaction</td>\n",
              "      <td>59935</td>\n",
              "      <td>Beulah</td>\n",
              "      <td>ND</td>\n",
              "      <td>58523.0</td>\n",
              "      <td>5499.0</td>\n",
              "      <td>NaN</td>\n",
              "      <td>1</td>\n",
              "      <td>1</td>\n",
              "      <td>2010</td>\n",
              "    </tr>\n",
              "    <tr>\n",
              "      <th>1</th>\n",
              "      <td>7475328</td>\n",
              "      <td>2010-01-01 00:02:00</td>\n",
              "      <td>561</td>\n",
              "      <td>4575</td>\n",
              "      <td>$14.57</td>\n",
              "      <td>Swipe Transaction</td>\n",
              "      <td>67570</td>\n",
              "      <td>Bettendorf</td>\n",
              "      <td>IA</td>\n",
              "      <td>52722.0</td>\n",
              "      <td>5311.0</td>\n",
              "      <td>NaN</td>\n",
              "      <td>1</td>\n",
              "      <td>1</td>\n",
              "      <td>2010</td>\n",
              "    </tr>\n",
              "    <tr>\n",
              "      <th>2</th>\n",
              "      <td>7475329</td>\n",
              "      <td>2010-01-01 00:02:00</td>\n",
              "      <td>1129</td>\n",
              "      <td>102</td>\n",
              "      <td>$80.00</td>\n",
              "      <td>Swipe Transaction</td>\n",
              "      <td>27092</td>\n",
              "      <td>Vista</td>\n",
              "      <td>CA</td>\n",
              "      <td>92084.0</td>\n",
              "      <td>4829.0</td>\n",
              "      <td>NaN</td>\n",
              "      <td>1</td>\n",
              "      <td>1</td>\n",
              "      <td>2010</td>\n",
              "    </tr>\n",
              "    <tr>\n",
              "      <th>3</th>\n",
              "      <td>7475331</td>\n",
              "      <td>2010-01-01 00:05:00</td>\n",
              "      <td>430</td>\n",
              "      <td>2860</td>\n",
              "      <td>$200.00</td>\n",
              "      <td>Swipe Transaction</td>\n",
              "      <td>27092</td>\n",
              "      <td>Crown Point</td>\n",
              "      <td>IN</td>\n",
              "      <td>46307.0</td>\n",
              "      <td>4829.0</td>\n",
              "      <td>NaN</td>\n",
              "      <td>1</td>\n",
              "      <td>1</td>\n",
              "      <td>2010</td>\n",
              "    </tr>\n",
              "    <tr>\n",
              "      <th>4</th>\n",
              "      <td>7475332</td>\n",
              "      <td>2010-01-01 00:06:00</td>\n",
              "      <td>848</td>\n",
              "      <td>3915</td>\n",
              "      <td>$46.41</td>\n",
              "      <td>Swipe Transaction</td>\n",
              "      <td>13051</td>\n",
              "      <td>Harwood</td>\n",
              "      <td>MD</td>\n",
              "      <td>20776.0</td>\n",
              "      <td>5813.0</td>\n",
              "      <td>NaN</td>\n",
              "      <td>1</td>\n",
              "      <td>1</td>\n",
              "      <td>2010</td>\n",
              "    </tr>\n",
              "  </tbody>\n",
              "</table>\n",
              "</div>\n",
              "    <div class=\"colab-df-buttons\">\n",
              "\n",
              "  <div class=\"colab-df-container\">\n",
              "    <button class=\"colab-df-convert\" onclick=\"convertToInteractive('df-f07df6fd-9a07-48eb-acde-a7352121adc9')\"\n",
              "            title=\"Convert this dataframe to an interactive table.\"\n",
              "            style=\"display:none;\">\n",
              "\n",
              "  <svg xmlns=\"http://www.w3.org/2000/svg\" height=\"24px\" viewBox=\"0 -960 960 960\">\n",
              "    <path d=\"M120-120v-720h720v720H120Zm60-500h600v-160H180v160Zm220 220h160v-160H400v160Zm0 220h160v-160H400v160ZM180-400h160v-160H180v160Zm440 0h160v-160H620v160ZM180-180h160v-160H180v160Zm440 0h160v-160H620v160Z\"/>\n",
              "  </svg>\n",
              "    </button>\n",
              "\n",
              "  <style>\n",
              "    .colab-df-container {\n",
              "      display:flex;\n",
              "      gap: 12px;\n",
              "    }\n",
              "\n",
              "    .colab-df-convert {\n",
              "      background-color: #E8F0FE;\n",
              "      border: none;\n",
              "      border-radius: 50%;\n",
              "      cursor: pointer;\n",
              "      display: none;\n",
              "      fill: #1967D2;\n",
              "      height: 32px;\n",
              "      padding: 0 0 0 0;\n",
              "      width: 32px;\n",
              "    }\n",
              "\n",
              "    .colab-df-convert:hover {\n",
              "      background-color: #E2EBFA;\n",
              "      box-shadow: 0px 1px 2px rgba(60, 64, 67, 0.3), 0px 1px 3px 1px rgba(60, 64, 67, 0.15);\n",
              "      fill: #174EA6;\n",
              "    }\n",
              "\n",
              "    .colab-df-buttons div {\n",
              "      margin-bottom: 4px;\n",
              "    }\n",
              "\n",
              "    [theme=dark] .colab-df-convert {\n",
              "      background-color: #3B4455;\n",
              "      fill: #D2E3FC;\n",
              "    }\n",
              "\n",
              "    [theme=dark] .colab-df-convert:hover {\n",
              "      background-color: #434B5C;\n",
              "      box-shadow: 0px 1px 3px 1px rgba(0, 0, 0, 0.15);\n",
              "      filter: drop-shadow(0px 1px 2px rgba(0, 0, 0, 0.3));\n",
              "      fill: #FFFFFF;\n",
              "    }\n",
              "  </style>\n",
              "\n",
              "    <script>\n",
              "      const buttonEl =\n",
              "        document.querySelector('#df-f07df6fd-9a07-48eb-acde-a7352121adc9 button.colab-df-convert');\n",
              "      buttonEl.style.display =\n",
              "        google.colab.kernel.accessAllowed ? 'block' : 'none';\n",
              "\n",
              "      async function convertToInteractive(key) {\n",
              "        const element = document.querySelector('#df-f07df6fd-9a07-48eb-acde-a7352121adc9');\n",
              "        const dataTable =\n",
              "          await google.colab.kernel.invokeFunction('convertToInteractive',\n",
              "                                                    [key], {});\n",
              "        if (!dataTable) return;\n",
              "\n",
              "        const docLinkHtml = 'Like what you see? Visit the ' +\n",
              "          '<a target=\"_blank\" href=https://colab.research.google.com/notebooks/data_table.ipynb>data table notebook</a>'\n",
              "          + ' to learn more about interactive tables.';\n",
              "        element.innerHTML = '';\n",
              "        dataTable['output_type'] = 'display_data';\n",
              "        await google.colab.output.renderOutput(dataTable, element);\n",
              "        const docLink = document.createElement('div');\n",
              "        docLink.innerHTML = docLinkHtml;\n",
              "        element.appendChild(docLink);\n",
              "      }\n",
              "    </script>\n",
              "  </div>\n",
              "\n",
              "\n",
              "<div id=\"df-a6e2d1d3-f098-4d02-830e-0ca7071d5ade\">\n",
              "  <button class=\"colab-df-quickchart\" onclick=\"quickchart('df-a6e2d1d3-f098-4d02-830e-0ca7071d5ade')\"\n",
              "            title=\"Suggest charts\"\n",
              "            style=\"display:none;\">\n",
              "\n",
              "<svg xmlns=\"http://www.w3.org/2000/svg\" height=\"24px\"viewBox=\"0 0 24 24\"\n",
              "     width=\"24px\">\n",
              "    <g>\n",
              "        <path d=\"M19 3H5c-1.1 0-2 .9-2 2v14c0 1.1.9 2 2 2h14c1.1 0 2-.9 2-2V5c0-1.1-.9-2-2-2zM9 17H7v-7h2v7zm4 0h-2V7h2v10zm4 0h-2v-4h2v4z\"/>\n",
              "    </g>\n",
              "</svg>\n",
              "  </button>\n",
              "\n",
              "<style>\n",
              "  .colab-df-quickchart {\n",
              "      --bg-color: #E8F0FE;\n",
              "      --fill-color: #1967D2;\n",
              "      --hover-bg-color: #E2EBFA;\n",
              "      --hover-fill-color: #174EA6;\n",
              "      --disabled-fill-color: #AAA;\n",
              "      --disabled-bg-color: #DDD;\n",
              "  }\n",
              "\n",
              "  [theme=dark] .colab-df-quickchart {\n",
              "      --bg-color: #3B4455;\n",
              "      --fill-color: #D2E3FC;\n",
              "      --hover-bg-color: #434B5C;\n",
              "      --hover-fill-color: #FFFFFF;\n",
              "      --disabled-bg-color: #3B4455;\n",
              "      --disabled-fill-color: #666;\n",
              "  }\n",
              "\n",
              "  .colab-df-quickchart {\n",
              "    background-color: var(--bg-color);\n",
              "    border: none;\n",
              "    border-radius: 50%;\n",
              "    cursor: pointer;\n",
              "    display: none;\n",
              "    fill: var(--fill-color);\n",
              "    height: 32px;\n",
              "    padding: 0;\n",
              "    width: 32px;\n",
              "  }\n",
              "\n",
              "  .colab-df-quickchart:hover {\n",
              "    background-color: var(--hover-bg-color);\n",
              "    box-shadow: 0 1px 2px rgba(60, 64, 67, 0.3), 0 1px 3px 1px rgba(60, 64, 67, 0.15);\n",
              "    fill: var(--button-hover-fill-color);\n",
              "  }\n",
              "\n",
              "  .colab-df-quickchart-complete:disabled,\n",
              "  .colab-df-quickchart-complete:disabled:hover {\n",
              "    background-color: var(--disabled-bg-color);\n",
              "    fill: var(--disabled-fill-color);\n",
              "    box-shadow: none;\n",
              "  }\n",
              "\n",
              "  .colab-df-spinner {\n",
              "    border: 2px solid var(--fill-color);\n",
              "    border-color: transparent;\n",
              "    border-bottom-color: var(--fill-color);\n",
              "    animation:\n",
              "      spin 1s steps(1) infinite;\n",
              "  }\n",
              "\n",
              "  @keyframes spin {\n",
              "    0% {\n",
              "      border-color: transparent;\n",
              "      border-bottom-color: var(--fill-color);\n",
              "      border-left-color: var(--fill-color);\n",
              "    }\n",
              "    20% {\n",
              "      border-color: transparent;\n",
              "      border-left-color: var(--fill-color);\n",
              "      border-top-color: var(--fill-color);\n",
              "    }\n",
              "    30% {\n",
              "      border-color: transparent;\n",
              "      border-left-color: var(--fill-color);\n",
              "      border-top-color: var(--fill-color);\n",
              "      border-right-color: var(--fill-color);\n",
              "    }\n",
              "    40% {\n",
              "      border-color: transparent;\n",
              "      border-right-color: var(--fill-color);\n",
              "      border-top-color: var(--fill-color);\n",
              "    }\n",
              "    60% {\n",
              "      border-color: transparent;\n",
              "      border-right-color: var(--fill-color);\n",
              "    }\n",
              "    80% {\n",
              "      border-color: transparent;\n",
              "      border-right-color: var(--fill-color);\n",
              "      border-bottom-color: var(--fill-color);\n",
              "    }\n",
              "    90% {\n",
              "      border-color: transparent;\n",
              "      border-bottom-color: var(--fill-color);\n",
              "    }\n",
              "  }\n",
              "</style>\n",
              "\n",
              "  <script>\n",
              "    async function quickchart(key) {\n",
              "      const quickchartButtonEl =\n",
              "        document.querySelector('#' + key + ' button');\n",
              "      quickchartButtonEl.disabled = true;  // To prevent multiple clicks.\n",
              "      quickchartButtonEl.classList.add('colab-df-spinner');\n",
              "      try {\n",
              "        const charts = await google.colab.kernel.invokeFunction(\n",
              "            'suggestCharts', [key], {});\n",
              "      } catch (error) {\n",
              "        console.error('Error during call to suggestCharts:', error);\n",
              "      }\n",
              "      quickchartButtonEl.classList.remove('colab-df-spinner');\n",
              "      quickchartButtonEl.classList.add('colab-df-quickchart-complete');\n",
              "    }\n",
              "    (() => {\n",
              "      let quickchartButtonEl =\n",
              "        document.querySelector('#df-a6e2d1d3-f098-4d02-830e-0ca7071d5ade button');\n",
              "      quickchartButtonEl.style.display =\n",
              "        google.colab.kernel.accessAllowed ? 'block' : 'none';\n",
              "    })();\n",
              "  </script>\n",
              "</div>\n",
              "\n",
              "    </div>\n",
              "  </div>\n"
            ],
            "application/vnd.google.colaboratory.intrinsic+json": {
              "type": "dataframe",
              "variable_name": "df"
            }
          },
          "metadata": {},
          "execution_count": 186
        }
      ]
    },
    {
      "cell_type": "markdown",
      "source": [
        "in the amount i think it is misstructured so make that in properr way"
      ],
      "metadata": {
        "id": "B1r0AXkSNY45"
      }
    },
    {
      "cell_type": "code",
      "source": [
        "df.amount"
      ],
      "metadata": {
        "colab": {
          "base_uri": "https://localhost:8080/",
          "height": 458
        },
        "id": "Zo5bE5FKkC3u",
        "outputId": "3f60fc17-538c-4755-baef-569ad5d8b141"
      },
      "execution_count": null,
      "outputs": [
        {
          "output_type": "execute_result",
          "data": {
            "text/plain": [
              "0          $-77.00\n",
              "1           $14.57\n",
              "2           $80.00\n",
              "3          $200.00\n",
              "4           $46.41\n",
              "            ...   \n",
              "1235830      $6.48\n",
              "1235831     $46.47\n",
              "1235832     $14.74\n",
              "1235833     $40.93\n",
              "1235834     $16.73\n",
              "Name: amount, Length: 1235835, dtype: object"
            ],
            "text/html": [
              "<div>\n",
              "<style scoped>\n",
              "    .dataframe tbody tr th:only-of-type {\n",
              "        vertical-align: middle;\n",
              "    }\n",
              "\n",
              "    .dataframe tbody tr th {\n",
              "        vertical-align: top;\n",
              "    }\n",
              "\n",
              "    .dataframe thead th {\n",
              "        text-align: right;\n",
              "    }\n",
              "</style>\n",
              "<table border=\"1\" class=\"dataframe\">\n",
              "  <thead>\n",
              "    <tr style=\"text-align: right;\">\n",
              "      <th></th>\n",
              "      <th>amount</th>\n",
              "    </tr>\n",
              "  </thead>\n",
              "  <tbody>\n",
              "    <tr>\n",
              "      <th>0</th>\n",
              "      <td>$-77.00</td>\n",
              "    </tr>\n",
              "    <tr>\n",
              "      <th>1</th>\n",
              "      <td>$14.57</td>\n",
              "    </tr>\n",
              "    <tr>\n",
              "      <th>2</th>\n",
              "      <td>$80.00</td>\n",
              "    </tr>\n",
              "    <tr>\n",
              "      <th>3</th>\n",
              "      <td>$200.00</td>\n",
              "    </tr>\n",
              "    <tr>\n",
              "      <th>4</th>\n",
              "      <td>$46.41</td>\n",
              "    </tr>\n",
              "    <tr>\n",
              "      <th>...</th>\n",
              "      <td>...</td>\n",
              "    </tr>\n",
              "    <tr>\n",
              "      <th>1235830</th>\n",
              "      <td>$6.48</td>\n",
              "    </tr>\n",
              "    <tr>\n",
              "      <th>1235831</th>\n",
              "      <td>$46.47</td>\n",
              "    </tr>\n",
              "    <tr>\n",
              "      <th>1235832</th>\n",
              "      <td>$14.74</td>\n",
              "    </tr>\n",
              "    <tr>\n",
              "      <th>1235833</th>\n",
              "      <td>$40.93</td>\n",
              "    </tr>\n",
              "    <tr>\n",
              "      <th>1235834</th>\n",
              "      <td>$16.73</td>\n",
              "    </tr>\n",
              "  </tbody>\n",
              "</table>\n",
              "<p>1235835 rows × 1 columns</p>\n",
              "</div><br><label><b>dtype:</b> object</label>"
            ]
          },
          "metadata": {},
          "execution_count": 187
        }
      ]
    },
    {
      "cell_type": "markdown",
      "source": [
        "to modifing first we have to check the amount datatype"
      ],
      "metadata": {
        "id": "-ANciUGRN3Qa"
      }
    },
    {
      "cell_type": "code",
      "source": [
        "df.amount.info()"
      ],
      "metadata": {
        "colab": {
          "base_uri": "https://localhost:8080/"
        },
        "id": "kOvfBulskQgr",
        "outputId": "9429590c-7883-4d9c-d2d0-c17e1fc0dcb9"
      },
      "execution_count": null,
      "outputs": [
        {
          "output_type": "stream",
          "name": "stdout",
          "text": [
            "<class 'pandas.core.series.Series'>\n",
            "RangeIndex: 1235835 entries, 0 to 1235834\n",
            "Series name: amount\n",
            "Non-Null Count    Dtype \n",
            "--------------    ----- \n",
            "1235835 non-null  object\n",
            "dtypes: object(1)\n",
            "memory usage: 9.4+ MB\n"
          ]
        }
      ]
    },
    {
      "cell_type": "markdown",
      "source": [
        "structuring the amount"
      ],
      "metadata": {
        "id": "ICIWRgPhOAZq"
      }
    },
    {
      "cell_type": "code",
      "source": [
        "df['amount']=df['amount'].str.replace('$','')\n",
        "df['amount']=pd.to_numeric(df['amount'])\n",
        "df.rename(columns={'amount':'Amount($)'},inplace=True)"
      ],
      "metadata": {
        "id": "6_Wn9Y41kWoV"
      },
      "execution_count": null,
      "outputs": []
    },
    {
      "cell_type": "markdown",
      "source": [
        "now it is structerd"
      ],
      "metadata": {
        "id": "M8kY6MwXOZTD"
      }
    },
    {
      "cell_type": "code",
      "source": [
        "df['Amount($)']"
      ],
      "metadata": {
        "colab": {
          "base_uri": "https://localhost:8080/",
          "height": 458
        },
        "id": "5rX7_x_Xk__9",
        "outputId": "9d82651e-d5f1-4221-b5e6-ed456bd039b3"
      },
      "execution_count": null,
      "outputs": [
        {
          "output_type": "execute_result",
          "data": {
            "text/plain": [
              "0          -77.00\n",
              "1           14.57\n",
              "2           80.00\n",
              "3          200.00\n",
              "4           46.41\n",
              "            ...  \n",
              "1235830      6.48\n",
              "1235831     46.47\n",
              "1235832     14.74\n",
              "1235833     40.93\n",
              "1235834     16.73\n",
              "Name: Amount($), Length: 1235835, dtype: float64"
            ],
            "text/html": [
              "<div>\n",
              "<style scoped>\n",
              "    .dataframe tbody tr th:only-of-type {\n",
              "        vertical-align: middle;\n",
              "    }\n",
              "\n",
              "    .dataframe tbody tr th {\n",
              "        vertical-align: top;\n",
              "    }\n",
              "\n",
              "    .dataframe thead th {\n",
              "        text-align: right;\n",
              "    }\n",
              "</style>\n",
              "<table border=\"1\" class=\"dataframe\">\n",
              "  <thead>\n",
              "    <tr style=\"text-align: right;\">\n",
              "      <th></th>\n",
              "      <th>Amount($)</th>\n",
              "    </tr>\n",
              "  </thead>\n",
              "  <tbody>\n",
              "    <tr>\n",
              "      <th>0</th>\n",
              "      <td>-77.00</td>\n",
              "    </tr>\n",
              "    <tr>\n",
              "      <th>1</th>\n",
              "      <td>14.57</td>\n",
              "    </tr>\n",
              "    <tr>\n",
              "      <th>2</th>\n",
              "      <td>80.00</td>\n",
              "    </tr>\n",
              "    <tr>\n",
              "      <th>3</th>\n",
              "      <td>200.00</td>\n",
              "    </tr>\n",
              "    <tr>\n",
              "      <th>4</th>\n",
              "      <td>46.41</td>\n",
              "    </tr>\n",
              "    <tr>\n",
              "      <th>...</th>\n",
              "      <td>...</td>\n",
              "    </tr>\n",
              "    <tr>\n",
              "      <th>1235830</th>\n",
              "      <td>6.48</td>\n",
              "    </tr>\n",
              "    <tr>\n",
              "      <th>1235831</th>\n",
              "      <td>46.47</td>\n",
              "    </tr>\n",
              "    <tr>\n",
              "      <th>1235832</th>\n",
              "      <td>14.74</td>\n",
              "    </tr>\n",
              "    <tr>\n",
              "      <th>1235833</th>\n",
              "      <td>40.93</td>\n",
              "    </tr>\n",
              "    <tr>\n",
              "      <th>1235834</th>\n",
              "      <td>16.73</td>\n",
              "    </tr>\n",
              "  </tbody>\n",
              "</table>\n",
              "<p>1235835 rows × 1 columns</p>\n",
              "</div><br><label><b>dtype:</b> float64</label>"
            ]
          },
          "metadata": {},
          "execution_count": 190
        }
      ]
    },
    {
      "cell_type": "code",
      "source": [
        "df.info()"
      ],
      "metadata": {
        "colab": {
          "base_uri": "https://localhost:8080/"
        },
        "id": "Mo7PikDSlNSH",
        "outputId": "157d7e11-8981-40cf-d317-096be97a1535"
      },
      "execution_count": null,
      "outputs": [
        {
          "output_type": "stream",
          "name": "stdout",
          "text": [
            "<class 'pandas.core.frame.DataFrame'>\n",
            "RangeIndex: 1235835 entries, 0 to 1235834\n",
            "Data columns (total 15 columns):\n",
            " #   Column          Non-Null Count    Dtype         \n",
            "---  ------          --------------    -----         \n",
            " 0   id              1235835 non-null  int64         \n",
            " 1   date            1235835 non-null  datetime64[ns]\n",
            " 2   client_id       1235835 non-null  int64         \n",
            " 3   card_id         1235835 non-null  int64         \n",
            " 4   Amount($)       1235835 non-null  float64       \n",
            " 5   use_chip        1235835 non-null  object        \n",
            " 6   merchant_id     1235835 non-null  int64         \n",
            " 7   merchant_city   1235835 non-null  object        \n",
            " 8   merchant_state  1101569 non-null  object        \n",
            " 9   zip             1094372 non-null  float64       \n",
            " 10  mcc             1235834 non-null  float64       \n",
            " 11  errors          19283 non-null    object        \n",
            " 12  day             1235835 non-null  int32         \n",
            " 13  month           1235835 non-null  int32         \n",
            " 14  year            1235835 non-null  int32         \n",
            "dtypes: datetime64[ns](1), float64(3), int32(3), int64(4), object(4)\n",
            "memory usage: 127.3+ MB\n"
          ]
        }
      ]
    },
    {
      "cell_type": "code",
      "source": [
        "df.isnull().sum()"
      ],
      "metadata": {
        "colab": {
          "base_uri": "https://localhost:8080/",
          "height": 554
        },
        "id": "oQicASYsOnBL",
        "outputId": "3227664d-7cd6-4b1e-eee1-ddc20f3cfbb3"
      },
      "execution_count": null,
      "outputs": [
        {
          "output_type": "execute_result",
          "data": {
            "text/plain": [
              "id                      0\n",
              "date                    0\n",
              "client_id               0\n",
              "card_id                 0\n",
              "Amount($)               0\n",
              "use_chip                0\n",
              "merchant_id             0\n",
              "merchant_city           0\n",
              "merchant_state     134266\n",
              "zip                141463\n",
              "mcc                     1\n",
              "errors            1216552\n",
              "day                     0\n",
              "month                   0\n",
              "year                    0\n",
              "dtype: int64"
            ],
            "text/html": [
              "<div>\n",
              "<style scoped>\n",
              "    .dataframe tbody tr th:only-of-type {\n",
              "        vertical-align: middle;\n",
              "    }\n",
              "\n",
              "    .dataframe tbody tr th {\n",
              "        vertical-align: top;\n",
              "    }\n",
              "\n",
              "    .dataframe thead th {\n",
              "        text-align: right;\n",
              "    }\n",
              "</style>\n",
              "<table border=\"1\" class=\"dataframe\">\n",
              "  <thead>\n",
              "    <tr style=\"text-align: right;\">\n",
              "      <th></th>\n",
              "      <th>0</th>\n",
              "    </tr>\n",
              "  </thead>\n",
              "  <tbody>\n",
              "    <tr>\n",
              "      <th>id</th>\n",
              "      <td>0</td>\n",
              "    </tr>\n",
              "    <tr>\n",
              "      <th>date</th>\n",
              "      <td>0</td>\n",
              "    </tr>\n",
              "    <tr>\n",
              "      <th>client_id</th>\n",
              "      <td>0</td>\n",
              "    </tr>\n",
              "    <tr>\n",
              "      <th>card_id</th>\n",
              "      <td>0</td>\n",
              "    </tr>\n",
              "    <tr>\n",
              "      <th>Amount($)</th>\n",
              "      <td>0</td>\n",
              "    </tr>\n",
              "    <tr>\n",
              "      <th>use_chip</th>\n",
              "      <td>0</td>\n",
              "    </tr>\n",
              "    <tr>\n",
              "      <th>merchant_id</th>\n",
              "      <td>0</td>\n",
              "    </tr>\n",
              "    <tr>\n",
              "      <th>merchant_city</th>\n",
              "      <td>0</td>\n",
              "    </tr>\n",
              "    <tr>\n",
              "      <th>merchant_state</th>\n",
              "      <td>134266</td>\n",
              "    </tr>\n",
              "    <tr>\n",
              "      <th>zip</th>\n",
              "      <td>141463</td>\n",
              "    </tr>\n",
              "    <tr>\n",
              "      <th>mcc</th>\n",
              "      <td>1</td>\n",
              "    </tr>\n",
              "    <tr>\n",
              "      <th>errors</th>\n",
              "      <td>1216552</td>\n",
              "    </tr>\n",
              "    <tr>\n",
              "      <th>day</th>\n",
              "      <td>0</td>\n",
              "    </tr>\n",
              "    <tr>\n",
              "      <th>month</th>\n",
              "      <td>0</td>\n",
              "    </tr>\n",
              "    <tr>\n",
              "      <th>year</th>\n",
              "      <td>0</td>\n",
              "    </tr>\n",
              "  </tbody>\n",
              "</table>\n",
              "</div><br><label><b>dtype:</b> int64</label>"
            ]
          },
          "metadata": {},
          "execution_count": 194
        }
      ]
    },
    {
      "cell_type": "code",
      "source": [],
      "metadata": {
        "id": "_QdKXYd9OvXL"
      },
      "execution_count": null,
      "outputs": []
    },
    {
      "cell_type": "markdown",
      "source": [
        "here error has 98 % null values and merchantstatae as 11% and zip has 12% so we have to preprocessing tha daataset"
      ],
      "metadata": {
        "id": "6Cmus0d_Ovth"
      }
    },
    {
      "cell_type": "code",
      "source": [
        "df['errors'].fillna('completed',inplace=True)"
      ],
      "metadata": {
        "id": "uLqAE9Q_lPio"
      },
      "execution_count": null,
      "outputs": []
    },
    {
      "cell_type": "markdown",
      "source": [
        "Assumpting that major transactions are generally error-free is reasonable, especially if errors are infrequent. This approach minimises the risk of misinterpretation and maximises the integrity of the dataset. Hence, imputing the nan values with a constant value'completed'"
      ],
      "metadata": {
        "id": "nddsoz61PCDr"
      }
    },
    {
      "cell_type": "code",
      "source": [
        "df.errors.isnull().sum()"
      ],
      "metadata": {
        "colab": {
          "base_uri": "https://localhost:8080/"
        },
        "id": "ZOffiJFRlqCv",
        "outputId": "9491bbf4-a04b-41bb-cffa-a3d54585f6f4"
      },
      "execution_count": null,
      "outputs": [
        {
          "output_type": "execute_result",
          "data": {
            "text/plain": [
              "0"
            ]
          },
          "metadata": {},
          "execution_count": 196
        }
      ]
    },
    {
      "cell_type": "code",
      "source": [
        "df.merchant_state.info()"
      ],
      "metadata": {
        "colab": {
          "base_uri": "https://localhost:8080/"
        },
        "id": "fDxB7q4xlwxB",
        "outputId": "9ff984c3-f8dd-4248-915f-49ea419a1454"
      },
      "execution_count": null,
      "outputs": [
        {
          "output_type": "stream",
          "name": "stdout",
          "text": [
            "<class 'pandas.core.series.Series'>\n",
            "RangeIndex: 1235835 entries, 0 to 1235834\n",
            "Series name: merchant_state\n",
            "Non-Null Count    Dtype \n",
            "--------------    ----- \n",
            "1101569 non-null  object\n",
            "dtypes: object(1)\n",
            "memory usage: 9.4+ MB\n"
          ]
        }
      ]
    },
    {
      "cell_type": "code",
      "source": [
        "df.merchant_state.isnull().sum()"
      ],
      "metadata": {
        "colab": {
          "base_uri": "https://localhost:8080/"
        },
        "id": "JV0_LJgMl4om",
        "outputId": "b46d0be4-4341-4bb3-ace7-e948f8ef6982"
      },
      "execution_count": null,
      "outputs": [
        {
          "output_type": "execute_result",
          "data": {
            "text/plain": [
              "134266"
            ]
          },
          "metadata": {},
          "execution_count": 198
        }
      ]
    },
    {
      "cell_type": "markdown",
      "source": [
        "Filling missing values in the merchant_state column with the mode ensures consistency by using the most common value, which likely represents the majority location and minimizes disruption to categorical distributions."
      ],
      "metadata": {
        "id": "imwexMs8Peqn"
      }
    },
    {
      "cell_type": "code",
      "source": [
        "df.merchant_state.fillna(df['merchant_state'].mode()[0],inplace = True)"
      ],
      "metadata": {
        "id": "-VilxB6dmAlg"
      },
      "execution_count": null,
      "outputs": []
    },
    {
      "cell_type": "code",
      "source": [
        "df.merchant_state.isnull().sum()"
      ],
      "metadata": {
        "colab": {
          "base_uri": "https://localhost:8080/"
        },
        "id": "c9n1lEkSmNzU",
        "outputId": "0a8e972a-35e4-4ec7-e8ef-6654606efba1"
      },
      "execution_count": null,
      "outputs": [
        {
          "output_type": "execute_result",
          "data": {
            "text/plain": [
              "0"
            ]
          },
          "metadata": {},
          "execution_count": 200
        }
      ]
    },
    {
      "cell_type": "code",
      "source": [
        "df.zip.isnull().sum()"
      ],
      "metadata": {
        "colab": {
          "base_uri": "https://localhost:8080/"
        },
        "id": "zqSpY435mP-y",
        "outputId": "26fd14fa-4286-44a9-fea4-c02702dd1ec7"
      },
      "execution_count": null,
      "outputs": [
        {
          "output_type": "execute_result",
          "data": {
            "text/plain": [
              "141463"
            ]
          },
          "metadata": {},
          "execution_count": 201
        }
      ]
    },
    {
      "cell_type": "code",
      "source": [
        "df.zip.info()"
      ],
      "metadata": {
        "colab": {
          "base_uri": "https://localhost:8080/"
        },
        "id": "HvTffXeUmUX-",
        "outputId": "2b70045a-10cd-443a-894f-97aff8c9b498"
      },
      "execution_count": null,
      "outputs": [
        {
          "output_type": "stream",
          "name": "stdout",
          "text": [
            "<class 'pandas.core.series.Series'>\n",
            "RangeIndex: 1235835 entries, 0 to 1235834\n",
            "Series name: zip\n",
            "Non-Null Count    Dtype  \n",
            "--------------    -----  \n",
            "1094372 non-null  float64\n",
            "dtypes: float64(1)\n",
            "memory usage: 9.4 MB\n"
          ]
        }
      ]
    },
    {
      "cell_type": "markdown",
      "source": [
        "Studying the box-plot of the 'zip' column to identify the proper imputation technique"
      ],
      "metadata": {
        "id": "t8jzuW2QPrNY"
      }
    },
    {
      "cell_type": "code",
      "source": [
        "df['zip'].plot(kind = 'box')"
      ],
      "metadata": {
        "colab": {
          "base_uri": "https://localhost:8080/",
          "height": 451
        },
        "id": "OYW5HDiZmjpT",
        "outputId": "35cdc9da-d12b-4913-9aaa-a52575597f58"
      },
      "execution_count": null,
      "outputs": [
        {
          "output_type": "execute_result",
          "data": {
            "text/plain": [
              "<Axes: >"
            ]
          },
          "metadata": {},
          "execution_count": 203
        },
        {
          "output_type": "display_data",
          "data": {
            "text/plain": [
              "<Figure size 640x480 with 1 Axes>"
            ],
            "image/png": "[encoded data removed]"
          },
          "metadata": {}
        }
      ]
    },
    {
      "cell_type": "markdown",
      "source": [
        "As the box plot represents normal distribution, mean imputation seems to be a reasonable technique as there are no outliers"
      ],
      "metadata": {
        "id": "ZaHadPdcPuXh"
      }
    },
    {
      "cell_type": "code",
      "source": [
        "df.zip.fillna(df['zip'].mean(),inplace = True)"
      ],
      "metadata": {
        "id": "l60-amquoGDB"
      },
      "execution_count": null,
      "outputs": []
    },
    {
      "cell_type": "code",
      "source": [
        "df.zip.isnull().sum()"
      ],
      "metadata": {
        "colab": {
          "base_uri": "https://localhost:8080/"
        },
        "id": "n-F820ZvpBoa",
        "outputId": "20631b8d-ab78-4198-b5b5-6cd4310de63c"
      },
      "execution_count": null,
      "outputs": [
        {
          "output_type": "execute_result",
          "data": {
            "text/plain": [
              "0"
            ]
          },
          "metadata": {},
          "execution_count": 205
        }
      ]
    },
    {
      "cell_type": "markdown",
      "source": [
        "i amount column we have idintify the which is debit and credit sso we have to create separate column to amount which is < 0 give a debit it is helpfull to analyzing"
      ],
      "metadata": {
        "id": "xBJb2mveP8Zu"
      }
    },
    {
      "cell_type": "code",
      "source": [
        "amount = df['Amount($)']\n",
        "paymnet_stetus = []\n",
        "\n",
        "for val in amount:\n",
        "  if val < 0:\n",
        "    paymnet_stetus.append('Debit')\n",
        "  else:\n",
        "    paymnet_stetus.append('Credit')\n",
        "\n",
        "df['payment_status'] = paymnet_stetus\n",
        "df['payment_status']"
      ],
      "metadata": {
        "colab": {
          "base_uri": "https://localhost:8080/",
          "height": 458
        },
        "id": "qbtvtdHOpGMo",
        "outputId": "12170a01-bdbb-477e-fae4-b634bc0d9ab5"
      },
      "execution_count": null,
      "outputs": [
        {
          "output_type": "execute_result",
          "data": {
            "text/plain": [
              "0           Debit\n",
              "1          Credit\n",
              "2          Credit\n",
              "3          Credit\n",
              "4          Credit\n",
              "            ...  \n",
              "1235830    Credit\n",
              "1235831    Credit\n",
              "1235832    Credit\n",
              "1235833    Credit\n",
              "1235834    Credit\n",
              "Name: payment_status, Length: 1235835, dtype: object"
            ],
            "text/html": [
              "<div>\n",
              "<style scoped>\n",
              "    .dataframe tbody tr th:only-of-type {\n",
              "        vertical-align: middle;\n",
              "    }\n",
              "\n",
              "    .dataframe tbody tr th {\n",
              "        vertical-align: top;\n",
              "    }\n",
              "\n",
              "    .dataframe thead th {\n",
              "        text-align: right;\n",
              "    }\n",
              "</style>\n",
              "<table border=\"1\" class=\"dataframe\">\n",
              "  <thead>\n",
              "    <tr style=\"text-align: right;\">\n",
              "      <th></th>\n",
              "      <th>payment_status</th>\n",
              "    </tr>\n",
              "  </thead>\n",
              "  <tbody>\n",
              "    <tr>\n",
              "      <th>0</th>\n",
              "      <td>Debit</td>\n",
              "    </tr>\n",
              "    <tr>\n",
              "      <th>1</th>\n",
              "      <td>Credit</td>\n",
              "    </tr>\n",
              "    <tr>\n",
              "      <th>2</th>\n",
              "      <td>Credit</td>\n",
              "    </tr>\n",
              "    <tr>\n",
              "      <th>3</th>\n",
              "      <td>Credit</td>\n",
              "    </tr>\n",
              "    <tr>\n",
              "      <th>4</th>\n",
              "      <td>Credit</td>\n",
              "    </tr>\n",
              "    <tr>\n",
              "      <th>...</th>\n",
              "      <td>...</td>\n",
              "    </tr>\n",
              "    <tr>\n",
              "      <th>1235830</th>\n",
              "      <td>Credit</td>\n",
              "    </tr>\n",
              "    <tr>\n",
              "      <th>1235831</th>\n",
              "      <td>Credit</td>\n",
              "    </tr>\n",
              "    <tr>\n",
              "      <th>1235832</th>\n",
              "      <td>Credit</td>\n",
              "    </tr>\n",
              "    <tr>\n",
              "      <th>1235833</th>\n",
              "      <td>Credit</td>\n",
              "    </tr>\n",
              "    <tr>\n",
              "      <th>1235834</th>\n",
              "      <td>Credit</td>\n",
              "    </tr>\n",
              "  </tbody>\n",
              "</table>\n",
              "<p>1235835 rows × 1 columns</p>\n",
              "</div><br><label><b>dtype:</b> object</label>"
            ]
          },
          "metadata": {},
          "execution_count": 206
        }
      ]
    },
    {
      "cell_type": "code",
      "source": [
        "df.head()"
      ],
      "metadata": {
        "colab": {
          "base_uri": "https://localhost:8080/",
          "height": 293
        },
        "id": "HX0_pm_IqYQJ",
        "outputId": "c4535010-08b5-4088-e467-43cdb7b5f8b3"
      },
      "execution_count": null,
      "outputs": [
        {
          "output_type": "execute_result",
          "data": {
            "text/plain": [
              "        id                date  client_id  card_id  Amount($)  \\\n",
              "0  7475327 2010-01-01 00:01:00       1556     2972     -77.00   \n",
              "1  7475328 2010-01-01 00:02:00        561     4575      14.57   \n",
              "2  7475329 2010-01-01 00:02:00       1129      102      80.00   \n",
              "3  7475331 2010-01-01 00:05:00        430     2860     200.00   \n",
              "4  7475332 2010-01-01 00:06:00        848     3915      46.41   \n",
              "\n",
              "            use_chip  merchant_id merchant_city merchant_state      zip  \\\n",
              "0  Swipe Transaction        59935        Beulah             ND  58523.0   \n",
              "1  Swipe Transaction        67570    Bettendorf             IA  52722.0   \n",
              "2  Swipe Transaction        27092         Vista             CA  92084.0   \n",
              "3  Swipe Transaction        27092   Crown Point             IN  46307.0   \n",
              "4  Swipe Transaction        13051       Harwood             MD  20776.0   \n",
              "\n",
              "      mcc     errors  day  month  year payment_status  \n",
              "0  5499.0  completed    1      1  2010          Debit  \n",
              "1  5311.0  completed    1      1  2010         Credit  \n",
              "2  4829.0  completed    1      1  2010         Credit  \n",
              "3  4829.0  completed    1      1  2010         Credit  \n",
              "4  5813.0  completed    1      1  2010         Credit  "
            ],
            "text/html": [
              "\n",
              "  <div id=\"df-4bffc8f1-98cc-4987-9d69-932e9c87699a\" class=\"colab-df-container\">\n",
              "    <div>\n",
              "<style scoped>\n",
              "    .dataframe tbody tr th:only-of-type {\n",
              "        vertical-align: middle;\n",
              "    }\n",
              "\n",
              "    .dataframe tbody tr th {\n",
              "        vertical-align: top;\n",
              "    }\n",
              "\n",
              "    .dataframe thead th {\n",
              "        text-align: right;\n",
              "    }\n",
              "</style>\n",
              "<table border=\"1\" class=\"dataframe\">\n",
              "  <thead>\n",
              "    <tr style=\"text-align: right;\">\n",
              "      <th></th>\n",
              "      <th>id</th>\n",
              "      <th>date</th>\n",
              "      <th>client_id</th>\n",
              "      <th>card_id</th>\n",
              "      <th>Amount($)</th>\n",
              "      <th>use_chip</th>\n",
              "      <th>merchant_id</th>\n",
              "      <th>merchant_city</th>\n",
              "      <th>merchant_state</th>\n",
              "      <th>zip</th>\n",
              "      <th>mcc</th>\n",
              "      <th>errors</th>\n",
              "      <th>day</th>\n",
              "      <th>month</th>\n",
              "      <th>year</th>\n",
              "      <th>payment_status</th>\n",
              "    </tr>\n",
              "  </thead>\n",
              "  <tbody>\n",
              "    <tr>\n",
              "      <th>0</th>\n",
              "      <td>7475327</td>\n",
              "      <td>2010-01-01 00:01:00</td>\n",
              "      <td>1556</td>\n",
              "      <td>2972</td>\n",
              "      <td>-77.00</td>\n",
              "      <td>Swipe Transaction</td>\n",
              "      <td>59935</td>\n",
              "      <td>Beulah</td>\n",
              "      <td>ND</td>\n",
              "      <td>58523.0</td>\n",
              "      <td>5499.0</td>\n",
              "      <td>completed</td>\n",
              "      <td>1</td>\n",
              "      <td>1</td>\n",
              "      <td>2010</td>\n",
              "      <td>Debit</td>\n",
              "    </tr>\n",
              "    <tr>\n",
              "      <th>1</th>\n",
              "      <td>7475328</td>\n",
              "      <td>2010-01-01 00:02:00</td>\n",
              "      <td>561</td>\n",
              "      <td>4575</td>\n",
              "      <td>14.57</td>\n",
              "      <td>Swipe Transaction</td>\n",
              "      <td>67570</td>\n",
              "      <td>Bettendorf</td>\n",
              "      <td>IA</td>\n",
              "      <td>52722.0</td>\n",
              "      <td>5311.0</td>\n",
              "      <td>completed</td>\n",
              "      <td>1</td>\n",
              "      <td>1</td>\n",
              "      <td>2010</td>\n",
              "      <td>Credit</td>\n",
              "    </tr>\n",
              "    <tr>\n",
              "      <th>2</th>\n",
              "      <td>7475329</td>\n",
              "      <td>2010-01-01 00:02:00</td>\n",
              "      <td>1129</td>\n",
              "      <td>102</td>\n",
              "      <td>80.00</td>\n",
              "      <td>Swipe Transaction</td>\n",
              "      <td>27092</td>\n",
              "      <td>Vista</td>\n",
              "      <td>CA</td>\n",
              "      <td>92084.0</td>\n",
              "      <td>4829.0</td>\n",
              "      <td>completed</td>\n",
              "      <td>1</td>\n",
              "      <td>1</td>\n",
              "      <td>2010</td>\n",
              "      <td>Credit</td>\n",
              "    </tr>\n",
              "    <tr>\n",
              "      <th>3</th>\n",
              "      <td>7475331</td>\n",
              "      <td>2010-01-01 00:05:00</td>\n",
              "      <td>430</td>\n",
              "      <td>2860</td>\n",
              "      <td>200.00</td>\n",
              "      <td>Swipe Transaction</td>\n",
              "      <td>27092</td>\n",
              "      <td>Crown Point</td>\n",
              "      <td>IN</td>\n",
              "      <td>46307.0</td>\n",
              "      <td>4829.0</td>\n",
              "      <td>completed</td>\n",
              "      <td>1</td>\n",
              "      <td>1</td>\n",
              "      <td>2010</td>\n",
              "      <td>Credit</td>\n",
              "    </tr>\n",
              "    <tr>\n",
              "      <th>4</th>\n",
              "      <td>7475332</td>\n",
              "      <td>2010-01-01 00:06:00</td>\n",
              "      <td>848</td>\n",
              "      <td>3915</td>\n",
              "      <td>46.41</td>\n",
              "      <td>Swipe Transaction</td>\n",
              "      <td>13051</td>\n",
              "      <td>Harwood</td>\n",
              "      <td>MD</td>\n",
              "      <td>20776.0</td>\n",
              "      <td>5813.0</td>\n",
              "      <td>completed</td>\n",
              "      <td>1</td>\n",
              "      <td>1</td>\n",
              "      <td>2010</td>\n",
              "      <td>Credit</td>\n",
              "    </tr>\n",
              "  </tbody>\n",
              "</table>\n",
              "</div>\n",
              "    <div class=\"colab-df-buttons\">\n",
              "\n",
              "  <div class=\"colab-df-container\">\n",
              "    <button class=\"colab-df-convert\" onclick=\"convertToInteractive('df-4bffc8f1-98cc-4987-9d69-932e9c87699a')\"\n",
              "            title=\"Convert this dataframe to an interactive table.\"\n",
              "            style=\"display:none;\">\n",
              "\n",
              "  <svg xmlns=\"http://www.w3.org/2000/svg\" height=\"24px\" viewBox=\"0 -960 960 960\">\n",
              "    <path d=\"M120-120v-720h720v720H120Zm60-500h600v-160H180v160Zm220 220h160v-160H400v160Zm0 220h160v-160H400v160ZM180-400h160v-160H180v160Zm440 0h160v-160H620v160ZM180-180h160v-160H180v160Zm440 0h160v-160H620v160Z\"/>\n",
              "  </svg>\n",
              "    </button>\n",
              "\n",
              "  <style>\n",
              "    .colab-df-container {\n",
              "      display:flex;\n",
              "      gap: 12px;\n",
              "    }\n",
              "\n",
              "    .colab-df-convert {\n",
              "      background-color: #E8F0FE;\n",
              "      border: none;\n",
              "      border-radius: 50%;\n",
              "      cursor: pointer;\n",
              "      display: none;\n",
              "      fill: #1967D2;\n",
              "      height: 32px;\n",
              "      padding: 0 0 0 0;\n",
              "      width: 32px;\n",
              "    }\n",
              "\n",
              "    .colab-df-convert:hover {\n",
              "      background-color: #E2EBFA;\n",
              "      box-shadow: 0px 1px 2px rgba(60, 64, 67, 0.3), 0px 1px 3px 1px rgba(60, 64, 67, 0.15);\n",
              "      fill: #174EA6;\n",
              "    }\n",
              "\n",
              "    .colab-df-buttons div {\n",
              "      margin-bottom: 4px;\n",
              "    }\n",
              "\n",
              "    [theme=dark] .colab-df-convert {\n",
              "      background-color: #3B4455;\n",
              "      fill: #D2E3FC;\n",
              "    }\n",
              "\n",
              "    [theme=dark] .colab-df-convert:hover {\n",
              "      background-color: #434B5C;\n",
              "      box-shadow: 0px 1px 3px 1px rgba(0, 0, 0, 0.15);\n",
              "      filter: drop-shadow(0px 1px 2px rgba(0, 0, 0, 0.3));\n",
              "      fill: #FFFFFF;\n",
              "    }\n",
              "  </style>\n",
              "\n",
              "    <script>\n",
              "      const buttonEl =\n",
              "        document.querySelector('#df-4bffc8f1-98cc-4987-9d69-932e9c87699a button.colab-df-convert');\n",
              "      buttonEl.style.display =\n",
              "        google.colab.kernel.accessAllowed ? 'block' : 'none';\n",
              "\n",
              "      async function convertToInteractive(key) {\n",
              "        const element = document.querySelector('#df-4bffc8f1-98cc-4987-9d69-932e9c87699a');\n",
              "        const dataTable =\n",
              "          await google.colab.kernel.invokeFunction('convertToInteractive',\n",
              "                                                    [key], {});\n",
              "        if (!dataTable) return;\n",
              "\n",
              "        const docLinkHtml = 'Like what you see? Visit the ' +\n",
              "          '<a target=\"_blank\" href=https://colab.research.google.com/notebooks/data_table.ipynb>data table notebook</a>'\n",
              "          + ' to learn more about interactive tables.';\n",
              "        element.innerHTML = '';\n",
              "        dataTable['output_type'] = 'display_data';\n",
              "        await google.colab.output.renderOutput(dataTable, element);\n",
              "        const docLink = document.createElement('div');\n",
              "        docLink.innerHTML = docLinkHtml;\n",
              "        element.appendChild(docLink);\n",
              "      }\n",
              "    </script>\n",
              "  </div>\n",
              "\n",
              "\n",
              "<div id=\"df-93a4e427-b192-490b-bea8-0f287e254a1c\">\n",
              "  <button class=\"colab-df-quickchart\" onclick=\"quickchart('df-93a4e427-b192-490b-bea8-0f287e254a1c')\"\n",
              "            title=\"Suggest charts\"\n",
              "            style=\"display:none;\">\n",
              "\n",
              "<svg xmlns=\"http://www.w3.org/2000/svg\" height=\"24px\"viewBox=\"0 0 24 24\"\n",
              "     width=\"24px\">\n",
              "    <g>\n",
              "        <path d=\"M19 3H5c-1.1 0-2 .9-2 2v14c0 1.1.9 2 2 2h14c1.1 0 2-.9 2-2V5c0-1.1-.9-2-2-2zM9 17H7v-7h2v7zm4 0h-2V7h2v10zm4 0h-2v-4h2v4z\"/>\n",
              "    </g>\n",
              "</svg>\n",
              "  </button>\n",
              "\n",
              "<style>\n",
              "  .colab-df-quickchart {\n",
              "      --bg-color: #E8F0FE;\n",
              "      --fill-color: #1967D2;\n",
              "      --hover-bg-color: #E2EBFA;\n",
              "      --hover-fill-color: #174EA6;\n",
              "      --disabled-fill-color: #AAA;\n",
              "      --disabled-bg-color: #DDD;\n",
              "  }\n",
              "\n",
              "  [theme=dark] .colab-df-quickchart {\n",
              "      --bg-color: #3B4455;\n",
              "      --fill-color: #D2E3FC;\n",
              "      --hover-bg-color: #434B5C;\n",
              "      --hover-fill-color: #FFFFFF;\n",
              "      --disabled-bg-color: #3B4455;\n",
              "      --disabled-fill-color: #666;\n",
              "  }\n",
              "\n",
              "  .colab-df-quickchart {\n",
              "    background-color: var(--bg-color);\n",
              "    border: none;\n",
              "    border-radius: 50%;\n",
              "    cursor: pointer;\n",
              "    display: none;\n",
              "    fill: var(--fill-color);\n",
              "    height: 32px;\n",
              "    padding: 0;\n",
              "    width: 32px;\n",
              "  }\n",
              "\n",
              "  .colab-df-quickchart:hover {\n",
              "    background-color: var(--hover-bg-color);\n",
              "    box-shadow: 0 1px 2px rgba(60, 64, 67, 0.3), 0 1px 3px 1px rgba(60, 64, 67, 0.15);\n",
              "    fill: var(--button-hover-fill-color);\n",
              "  }\n",
              "\n",
              "  .colab-df-quickchart-complete:disabled,\n",
              "  .colab-df-quickchart-complete:disabled:hover {\n",
              "    background-color: var(--disabled-bg-color);\n",
              "    fill: var(--disabled-fill-color);\n",
              "    box-shadow: none;\n",
              "  }\n",
              "\n",
              "  .colab-df-spinner {\n",
              "    border: 2px solid var(--fill-color);\n",
              "    border-color: transparent;\n",
              "    border-bottom-color: var(--fill-color);\n",
              "    animation:\n",
              "      spin 1s steps(1) infinite;\n",
              "  }\n",
              "\n",
              "  @keyframes spin {\n",
              "    0% {\n",
              "      border-color: transparent;\n",
              "      border-bottom-color: var(--fill-color);\n",
              "      border-left-color: var(--fill-color);\n",
              "    }\n",
              "    20% {\n",
              "      border-color: transparent;\n",
              "      border-left-color: var(--fill-color);\n",
              "      border-top-color: var(--fill-color);\n",
              "    }\n",
              "    30% {\n",
              "      border-color: transparent;\n",
              "      border-left-color: var(--fill-color);\n",
              "      border-top-color: var(--fill-color);\n",
              "      border-right-color: var(--fill-color);\n",
              "    }\n",
              "    40% {\n",
              "      border-color: transparent;\n",
              "      border-right-color: var(--fill-color);\n",
              "      border-top-color: var(--fill-color);\n",
              "    }\n",
              "    60% {\n",
              "      border-color: transparent;\n",
              "      border-right-color: var(--fill-color);\n",
              "    }\n",
              "    80% {\n",
              "      border-color: transparent;\n",
              "      border-right-color: var(--fill-color);\n",
              "      border-bottom-color: var(--fill-color);\n",
              "    }\n",
              "    90% {\n",
              "      border-color: transparent;\n",
              "      border-bottom-color: var(--fill-color);\n",
              "    }\n",
              "  }\n",
              "</style>\n",
              "\n",
              "  <script>\n",
              "    async function quickchart(key) {\n",
              "      const quickchartButtonEl =\n",
              "        document.querySelector('#' + key + ' button');\n",
              "      quickchartButtonEl.disabled = true;  // To prevent multiple clicks.\n",
              "      quickchartButtonEl.classList.add('colab-df-spinner');\n",
              "      try {\n",
              "        const charts = await google.colab.kernel.invokeFunction(\n",
              "            'suggestCharts', [key], {});\n",
              "      } catch (error) {\n",
              "        console.error('Error during call to suggestCharts:', error);\n",
              "      }\n",
              "      quickchartButtonEl.classList.remove('colab-df-spinner');\n",
              "      quickchartButtonEl.classList.add('colab-df-quickchart-complete');\n",
              "    }\n",
              "    (() => {\n",
              "      let quickchartButtonEl =\n",
              "        document.querySelector('#df-93a4e427-b192-490b-bea8-0f287e254a1c button');\n",
              "      quickchartButtonEl.style.display =\n",
              "        google.colab.kernel.accessAllowed ? 'block' : 'none';\n",
              "    })();\n",
              "  </script>\n",
              "</div>\n",
              "\n",
              "    </div>\n",
              "  </div>\n"
            ],
            "application/vnd.google.colaboratory.intrinsic+json": {
              "type": "dataframe",
              "variable_name": "df"
            }
          },
          "metadata": {},
          "execution_count": 207
        }
      ]
    },
    {
      "cell_type": "code",
      "source": [
        "df.isnull().sum()"
      ],
      "metadata": {
        "colab": {
          "base_uri": "https://localhost:8080/",
          "height": 585
        },
        "id": "yl1qE97GqaXz",
        "outputId": "17319c09-4e46-4044-bbd8-376485360215"
      },
      "execution_count": null,
      "outputs": [
        {
          "output_type": "execute_result",
          "data": {
            "text/plain": [
              "id                0\n",
              "date              0\n",
              "client_id         0\n",
              "card_id           0\n",
              "Amount($)         0\n",
              "use_chip          0\n",
              "merchant_id       0\n",
              "merchant_city     0\n",
              "merchant_state    0\n",
              "zip               0\n",
              "mcc               1\n",
              "errors            0\n",
              "day               0\n",
              "month             0\n",
              "year              0\n",
              "payment_status    0\n",
              "dtype: int64"
            ],
            "text/html": [
              "<div>\n",
              "<style scoped>\n",
              "    .dataframe tbody tr th:only-of-type {\n",
              "        vertical-align: middle;\n",
              "    }\n",
              "\n",
              "    .dataframe tbody tr th {\n",
              "        vertical-align: top;\n",
              "    }\n",
              "\n",
              "    .dataframe thead th {\n",
              "        text-align: right;\n",
              "    }\n",
              "</style>\n",
              "<table border=\"1\" class=\"dataframe\">\n",
              "  <thead>\n",
              "    <tr style=\"text-align: right;\">\n",
              "      <th></th>\n",
              "      <th>0</th>\n",
              "    </tr>\n",
              "  </thead>\n",
              "  <tbody>\n",
              "    <tr>\n",
              "      <th>id</th>\n",
              "      <td>0</td>\n",
              "    </tr>\n",
              "    <tr>\n",
              "      <th>date</th>\n",
              "      <td>0</td>\n",
              "    </tr>\n",
              "    <tr>\n",
              "      <th>client_id</th>\n",
              "      <td>0</td>\n",
              "    </tr>\n",
              "    <tr>\n",
              "      <th>card_id</th>\n",
              "      <td>0</td>\n",
              "    </tr>\n",
              "    <tr>\n",
              "      <th>Amount($)</th>\n",
              "      <td>0</td>\n",
              "    </tr>\n",
              "    <tr>\n",
              "      <th>use_chip</th>\n",
              "      <td>0</td>\n",
              "    </tr>\n",
              "    <tr>\n",
              "      <th>merchant_id</th>\n",
              "      <td>0</td>\n",
              "    </tr>\n",
              "    <tr>\n",
              "      <th>merchant_city</th>\n",
              "      <td>0</td>\n",
              "    </tr>\n",
              "    <tr>\n",
              "      <th>merchant_state</th>\n",
              "      <td>0</td>\n",
              "    </tr>\n",
              "    <tr>\n",
              "      <th>zip</th>\n",
              "      <td>0</td>\n",
              "    </tr>\n",
              "    <tr>\n",
              "      <th>mcc</th>\n",
              "      <td>1</td>\n",
              "    </tr>\n",
              "    <tr>\n",
              "      <th>errors</th>\n",
              "      <td>0</td>\n",
              "    </tr>\n",
              "    <tr>\n",
              "      <th>day</th>\n",
              "      <td>0</td>\n",
              "    </tr>\n",
              "    <tr>\n",
              "      <th>month</th>\n",
              "      <td>0</td>\n",
              "    </tr>\n",
              "    <tr>\n",
              "      <th>year</th>\n",
              "      <td>0</td>\n",
              "    </tr>\n",
              "    <tr>\n",
              "      <th>payment_status</th>\n",
              "      <td>0</td>\n",
              "    </tr>\n",
              "  </tbody>\n",
              "</table>\n",
              "</div><br><label><b>dtype:</b> int64</label>"
            ]
          },
          "metadata": {},
          "execution_count": 208
        }
      ]
    },
    {
      "cell_type": "code",
      "source": [
        "df.card_id.info()"
      ],
      "metadata": {
        "colab": {
          "base_uri": "https://localhost:8080/"
        },
        "id": "i5qikKrTqmPO",
        "outputId": "b4831dad-06dc-4984-d538-689838dbfa92"
      },
      "execution_count": null,
      "outputs": [
        {
          "output_type": "stream",
          "name": "stdout",
          "text": [
            "<class 'pandas.core.series.Series'>\n",
            "RangeIndex: 1235835 entries, 0 to 1235834\n",
            "Series name: card_id\n",
            "Non-Null Count    Dtype\n",
            "--------------    -----\n",
            "1235835 non-null  int64\n",
            "dtypes: int64(1)\n",
            "memory usage: 9.4 MB\n"
          ]
        }
      ]
    },
    {
      "cell_type": "code",
      "source": [
        "df.mcc.isnull().sum()"
      ],
      "metadata": {
        "colab": {
          "base_uri": "https://localhost:8080/"
        },
        "id": "ZjflhkoGqwN-",
        "outputId": "b417fe49-2bb0-42fb-d4db-b4d3860b7a0c"
      },
      "execution_count": null,
      "outputs": [
        {
          "output_type": "execute_result",
          "data": {
            "text/plain": [
              "1"
            ]
          },
          "metadata": {},
          "execution_count": 210
        }
      ]
    },
    {
      "cell_type": "markdown",
      "source": [
        "mcc has one missing value so we have to make imputing that"
      ],
      "metadata": {
        "id": "4JwDwPzvQTcZ"
      }
    },
    {
      "source": [
        "df.dropna(subset=['mcc'], inplace=True)"
      ],
      "cell_type": "code",
      "metadata": {
        "id": "t-0Pe-tgt1Zv"
      },
      "execution_count": null,
      "outputs": []
    },
    {
      "cell_type": "code",
      "source": [
        "df.isnull().sum()"
      ],
      "metadata": {
        "colab": {
          "base_uri": "https://localhost:8080/",
          "height": 585
        },
        "id": "fwhbX1CrrDg1",
        "outputId": "505ba83d-dd65-4724-b4af-3ef59213a939"
      },
      "execution_count": null,
      "outputs": [
        {
          "output_type": "execute_result",
          "data": {
            "text/plain": [
              "id                0\n",
              "date              0\n",
              "client_id         0\n",
              "card_id           0\n",
              "Amount($)         0\n",
              "use_chip          0\n",
              "merchant_id       0\n",
              "merchant_city     0\n",
              "merchant_state    0\n",
              "zip               0\n",
              "mcc               0\n",
              "errors            0\n",
              "day               0\n",
              "month             0\n",
              "year              0\n",
              "payment_status    0\n",
              "dtype: int64"
            ],
            "text/html": [
              "<div>\n",
              "<style scoped>\n",
              "    .dataframe tbody tr th:only-of-type {\n",
              "        vertical-align: middle;\n",
              "    }\n",
              "\n",
              "    .dataframe tbody tr th {\n",
              "        vertical-align: top;\n",
              "    }\n",
              "\n",
              "    .dataframe thead th {\n",
              "        text-align: right;\n",
              "    }\n",
              "</style>\n",
              "<table border=\"1\" class=\"dataframe\">\n",
              "  <thead>\n",
              "    <tr style=\"text-align: right;\">\n",
              "      <th></th>\n",
              "      <th>0</th>\n",
              "    </tr>\n",
              "  </thead>\n",
              "  <tbody>\n",
              "    <tr>\n",
              "      <th>id</th>\n",
              "      <td>0</td>\n",
              "    </tr>\n",
              "    <tr>\n",
              "      <th>date</th>\n",
              "      <td>0</td>\n",
              "    </tr>\n",
              "    <tr>\n",
              "      <th>client_id</th>\n",
              "      <td>0</td>\n",
              "    </tr>\n",
              "    <tr>\n",
              "      <th>card_id</th>\n",
              "      <td>0</td>\n",
              "    </tr>\n",
              "    <tr>\n",
              "      <th>Amount($)</th>\n",
              "      <td>0</td>\n",
              "    </tr>\n",
              "    <tr>\n",
              "      <th>use_chip</th>\n",
              "      <td>0</td>\n",
              "    </tr>\n",
              "    <tr>\n",
              "      <th>merchant_id</th>\n",
              "      <td>0</td>\n",
              "    </tr>\n",
              "    <tr>\n",
              "      <th>merchant_city</th>\n",
              "      <td>0</td>\n",
              "    </tr>\n",
              "    <tr>\n",
              "      <th>merchant_state</th>\n",
              "      <td>0</td>\n",
              "    </tr>\n",
              "    <tr>\n",
              "      <th>zip</th>\n",
              "      <td>0</td>\n",
              "    </tr>\n",
              "    <tr>\n",
              "      <th>mcc</th>\n",
              "      <td>0</td>\n",
              "    </tr>\n",
              "    <tr>\n",
              "      <th>errors</th>\n",
              "      <td>0</td>\n",
              "    </tr>\n",
              "    <tr>\n",
              "      <th>day</th>\n",
              "      <td>0</td>\n",
              "    </tr>\n",
              "    <tr>\n",
              "      <th>month</th>\n",
              "      <td>0</td>\n",
              "    </tr>\n",
              "    <tr>\n",
              "      <th>year</th>\n",
              "      <td>0</td>\n",
              "    </tr>\n",
              "    <tr>\n",
              "      <th>payment_status</th>\n",
              "      <td>0</td>\n",
              "    </tr>\n",
              "  </tbody>\n",
              "</table>\n",
              "</div><br><label><b>dtype:</b> int64</label>"
            ]
          },
          "metadata": {},
          "execution_count": 212
        }
      ]
    },
    {
      "cell_type": "markdown",
      "source": [],
      "metadata": {
        "id": "JU749EsHy03B"
      }
    },
    {
      "cell_type": "code",
      "source": [
        "df.columns\n"
      ],
      "metadata": {
        "colab": {
          "base_uri": "https://localhost:8080/"
        },
        "id": "WDmlJofYr3wi",
        "outputId": "9a86f4b2-568b-4383-e5da-deb029255a4f"
      },
      "execution_count": null,
      "outputs": [
        {
          "output_type": "execute_result",
          "data": {
            "text/plain": [
              "Index(['id', 'date', 'client_id', 'card_id', 'Amount($)', 'use_chip',\n",
              "       'merchant_id', 'merchant_city', 'merchant_state', 'zip', 'mcc',\n",
              "       'errors', 'day', 'month', 'year', 'payment_status'],\n",
              "      dtype='object')"
            ]
          },
          "metadata": {},
          "execution_count": 213
        }
      ]
    },
    {
      "cell_type": "markdown",
      "source": [
        "Visualization"
      ],
      "metadata": {
        "id": "aKsjZD7gQgtR"
      }
    },
    {
      "cell_type": "markdown",
      "source": [
        "Distrubution of amount"
      ],
      "metadata": {
        "id": "Msp4cvPYy41O"
      }
    },
    {
      "cell_type": "code",
      "source": [
        "plt.figure(figsize=(8,6))\n",
        "sns.histplot(df['Amount($)'],bins=20,kde=True)\n",
        "plt.title('Distribution of Amount')\n",
        "plt.xlabel('Amount')\n",
        "plt.ylabel('Frequency')"
      ],
      "metadata": {
        "colab": {
          "base_uri": "https://localhost:8080/",
          "height": 581
        },
        "id": "Oh1-nKUPr_fm",
        "outputId": "164df38c-54d5-46aa-e213-82c869a9881c"
      },
      "execution_count": null,
      "outputs": [
        {
          "output_type": "execute_result",
          "data": {
            "text/plain": [
              "Text(0, 0.5, 'Frequency')"
            ]
          },
          "metadata": {},
          "execution_count": 119
        },
        {
          "output_type": "display_data",
          "data": {
            "text/plain": [
              "<Figure size 800x600 with 1 Axes>"
            ],
            "image/png": "[encoded data removed]"
          },
          "metadata": {}
        }
      ]
    },
    {
      "cell_type": "markdown",
      "source": [
        "observation : amount has outliers"
      ],
      "metadata": {
        "id": "2Qk7ko7bQlL1"
      }
    },
    {
      "cell_type": "code",
      "source": [
        "import matplotlib.pyplot as plt\n",
        "import seaborn as sns\n",
        "\n",
        "plt.figure(figsize=(8, 6))\n",
        "sns.boxplot(data=df, x='Amount($)', color='skyblue')\n",
        "plt.title('Boxplot of Amount($)')\n",
        "plt.xlabel('Amount($)')\n",
        "plt.show()\n"
      ],
      "metadata": {
        "colab": {
          "base_uri": "https://localhost:8080/",
          "height": 573
        },
        "id": "11NFYalTy7yT",
        "outputId": "d43920f5-522a-42b6-d52c-cb69f271f213"
      },
      "execution_count": null,
      "outputs": [
        {
          "output_type": "display_data",
          "data": {
            "text/plain": [
              "<Figure size 800x600 with 1 Axes>"
            ],
            "image/png": "[encoded data removed]"
          },
          "metadata": {}
        }
      ]
    },
    {
      "cell_type": "markdown",
      "source": [
        "so we have to work on the outliers method is IQR"
      ],
      "metadata": {
        "id": "PbebxcnGQuWL"
      }
    },
    {
      "cell_type": "code",
      "source": [
        "q1 = df['Amount($)'].quantile(0.25)\n",
        "q3 = df['Amount($)'].quantile(0.75)\n",
        "iqr = q3-q1\n",
        "\n",
        "Lower_bound = q1-1.5*iqr\n",
        "Upper_bound = q3+1.5*iqr\n",
        "\n",
        "outliers = df[(df['Amount($)']<Lower_bound) | (df['Amount($)']>Upper_bound)]\n",
        "print(len(outliers))"
      ],
      "metadata": {
        "colab": {
          "base_uri": "https://localhost:8080/"
        },
        "id": "XL9JDZoszvax",
        "outputId": "8ef68ab5-286a-4de3-b788-04035224abc9"
      },
      "execution_count": null,
      "outputs": [
        {
          "output_type": "stream",
          "name": "stdout",
          "text": [
            "96113\n"
          ]
        }
      ]
    },
    {
      "cell_type": "markdown",
      "source": [
        "here i used capping method"
      ],
      "metadata": {
        "id": "0hmFvPpHQ1dj"
      }
    },
    {
      "cell_type": "code",
      "source": [
        "df['Amount($)'] = df['Amount($)'].clip(lower=Lower_bound,upper=Upper_bound)"
      ],
      "metadata": {
        "id": "EiiUeY3U0s0j"
      },
      "execution_count": null,
      "outputs": []
    },
    {
      "cell_type": "markdown",
      "source": [
        "now check the outliers"
      ],
      "metadata": {
        "id": "0q0idFHmQ7Vp"
      }
    },
    {
      "cell_type": "code",
      "source": [
        "plt.figure(figsize=(8, 6))\n",
        "sns.boxplot(data=df, x='Amount($)', color='skyblue')\n",
        "plt.title('Boxplot of Amount($)')\n",
        "plt.xlabel('Amount($)')\n",
        "plt.show()\n"
      ],
      "metadata": {
        "colab": {
          "base_uri": "https://localhost:8080/",
          "height": 573
        },
        "id": "IWqRioYU1lHa",
        "outputId": "8f581798-4240-4c29-e2b6-b8934b500b5f"
      },
      "execution_count": null,
      "outputs": [
        {
          "output_type": "display_data",
          "data": {
            "text/plain": [
              "<Figure size 800x600 with 1 Axes>"
            ],
            "image/png": "[encoded data removed]"
          },
          "metadata": {}
        }
      ]
    },
    {
      "cell_type": "markdown",
      "source": [
        "here i am creted the outlier detection function\n"
      ],
      "metadata": {
        "id": "4_3mymgEQ_5e"
      }
    },
    {
      "cell_type": "code",
      "source": [
        "import pandas as pd\n",
        "\n",
        "def detect_outliers_and_bounds(df, column):\n",
        "\n",
        "    # Calculate Q1, Q3, and IQR\n",
        "    Q1 = df[column].quantile(0.25)\n",
        "    Q3 = df[column].quantile(0.75)\n",
        "    IQR = Q3 - Q1\n",
        "\n",
        "    # Define bounds\n",
        "    lower_bound = Q1 - 1.5 * IQR\n",
        "    upper_bound = Q3 + 1.5 * IQR\n",
        "\n",
        "    print(f\"Column: {column}\")\n",
        "    print(f\"Lower Bound: {lower_bound}, Upper Bound: {upper_bound}\")\n",
        "\n",
        "    outliers = df[(df[column] < lower_bound) | (df[column] > upper_bound)]\n",
        "\n",
        "    return lower_bound, upper_bound,outliers,len(outliers)\n"
      ],
      "metadata": {
        "id": "JjCPyu_t1v8T"
      },
      "execution_count": null,
      "outputs": []
    },
    {
      "cell_type": "markdown",
      "source": [
        "creating the cappping function"
      ],
      "metadata": {
        "id": "06qZgLORRO-4"
      }
    },
    {
      "cell_type": "code",
      "source": [
        "def clip_outliers(df, column, lower_bound, upper_bound):\n",
        "\n",
        "    df[column] = df[column].clip(lower=lower_bound, upper=upper_bound)\n",
        "\n",
        "    return df\n"
      ],
      "metadata": {
        "id": "w3g_PHt33kAV"
      },
      "execution_count": null,
      "outputs": []
    },
    {
      "cell_type": "code",
      "source": [
        "\n",
        "lower_bound, upper_bound = detect_outliers_and_bounds(df, column='year')\n"
      ],
      "metadata": {
        "colab": {
          "base_uri": "https://localhost:8080/"
        },
        "id": "oEWbOIz_6a6Y",
        "outputId": "89a76d34-ce75-4722-f0f1-cbd7441e09c2"
      },
      "execution_count": null,
      "outputs": [
        {
          "output_type": "stream",
          "name": "stdout",
          "text": [
            "Column: year\n",
            "Lower Bound: 2010.0, Upper Bound: 2010.0\n"
          ]
        }
      ]
    },
    {
      "cell_type": "code",
      "source": [
        "plt.figure(figsize=(8, 6))\n",
        "sns.boxplot(data=df, x='year', color='skyblue')\n",
        "plt.title('Boxplot of year')\n",
        "plt.xlabel('year')\n",
        "plt.show()\n"
      ],
      "metadata": {
        "colab": {
          "base_uri": "https://localhost:8080/",
          "height": 564
        },
        "id": "wckuW_xe6mrQ",
        "outputId": "3f3dd0f1-a455-42bf-b129-038121d32999"
      },
      "execution_count": null,
      "outputs": [
        {
          "output_type": "display_data",
          "data": {
            "text/plain": [
              "<Figure size 800x600 with 1 Axes>"
            ],
            "image/png": "[encoded data removed]"
          },
          "metadata": {}
        }
      ]
    },
    {
      "cell_type": "markdown",
      "source": [
        "Transactions by merchant_state"
      ],
      "metadata": {
        "id": "53va8w0BA9eE"
      }
    },
    {
      "cell_type": "code",
      "source": [],
      "metadata": {
        "id": "Ynclqz606sAa"
      },
      "execution_count": null,
      "outputs": []
    },
    {
      "cell_type": "markdown",
      "source": [
        "total transaction by merchant state"
      ],
      "metadata": {
        "id": "wUyjEJ_pRW1z"
      }
    },
    {
      "cell_type": "code",
      "source": [
        "df.groupby('merchant_state')['Amount($)'].sum().sort_values(ascending=False).plot(\n",
        "    kind='barh', figsize=(10, 8), color='orange'\n",
        ")\n",
        "plt.title('Total Transactions by Merchant State')\n",
        "plt.xlabel('Total Amount($)')\n",
        "plt.ylabel('Merchant State')\n",
        "plt.show()\n"
      ],
      "metadata": {
        "colab": {
          "base_uri": "https://localhost:8080/",
          "height": 727
        },
        "id": "b8l3m3MnA9Cw",
        "outputId": "f9fa013f-0020-4dbd-d915-7a3661800317"
      },
      "execution_count": null,
      "outputs": [
        {
          "output_type": "display_data",
          "data": {
            "text/plain": [
              "<Figure size 1000x800 with 1 Axes>"
            ],
            "image/png": "[encoded data removed]"
          },
          "metadata": {}
        }
      ]
    },
    {
      "cell_type": "markdown",
      "source": [
        "Count of errors by visualization"
      ],
      "metadata": {
        "id": "8alTdNecRdWI"
      }
    },
    {
      "cell_type": "code",
      "source": [
        "error_counts = df['errors'].value_counts()\n",
        "error_counts.plot(kind='bar', figsize=(10, 6), color='red')\n",
        "plt.title('Count of Errors')\n",
        "plt.xlabel('Error Type')\n",
        "plt.ylabel('Count')\n",
        "plt.show()\n"
      ],
      "metadata": {
        "colab": {
          "base_uri": "https://localhost:8080/",
          "height": 850
        },
        "id": "09G8X1EiB6Fw",
        "outputId": "2295eaa6-3086-45a1-af81-4f97db803bf7"
      },
      "execution_count": null,
      "outputs": [
        {
          "output_type": "display_data",
          "data": {
            "text/plain": [
              "<Figure size 1000x600 with 1 Axes>"
            ],
            "image/png": "[encoded data removed]"
          },
          "metadata": {}
        }
      ]
    },
    {
      "cell_type": "markdown",
      "source": [
        "This code calculates and visualizes the correlation matrix of numeric columns in the DataFrame using a heatmap, highlighting relationships between variables with a color gradient."
      ],
      "metadata": {
        "id": "bzm1riTAR7so"
      }
    },
    {
      "cell_type": "code",
      "source": [
        "numeric_df = df.select_dtypes(include=['number'])\n",
        "correlation_matrix = numeric_df.corr()\n",
        "plt.figure(figsize=(10, 8))\n",
        "sns.heatmap(correlation_matrix, annot=True, cmap='coolwarm', fmt=\".2f\")\n",
        "plt.title('Correlation Heatmap')\n",
        "plt.show()"
      ],
      "metadata": {
        "colab": {
          "base_uri": "https://localhost:8080/",
          "height": 783
        },
        "id": "OEQYWmkSCNhg",
        "outputId": "c0243cf3-f7e5-4f60-e16c-6ef2fc8869d1"
      },
      "execution_count": null,
      "outputs": [
        {
          "output_type": "display_data",
          "data": {
            "text/plain": [
              "<Figure size 1000x800 with 2 Axes>"
            ],
            "image/png": "[encoded data removed]"
          },
          "metadata": {}
        }
      ]
    },
    {
      "cell_type": "markdown",
      "source": [
        "\n",
        "This code creates a count plot to visualize the distribution of the 'payment_status' column in the DataFrame, using the 'viridis' color palette."
      ],
      "metadata": {
        "id": "x3EszFsbSDcp"
      }
    },
    {
      "cell_type": "code",
      "source": [
        "sns.countplot(x='payment_status', data=df, palette='viridis')\n",
        "plt.title('Count of Payment Status')\n",
        "plt.xlabel('Payment Status')\n",
        "plt.ylabel('Count')\n",
        "plt.show()\n"
      ],
      "metadata": {
        "colab": {
          "base_uri": "https://localhost:8080/",
          "height": 480
        },
        "id": "IyaEiBrjD20d",
        "outputId": "55ecaa25-343b-4527-e281-79530d835baf"
      },
      "execution_count": null,
      "outputs": [
        {
          "output_type": "display_data",
          "data": {
            "text/plain": [
              "<Figure size 640x480 with 1 Axes>"
            ],
            "image/png": "[encoded data removed]"
          },
          "metadata": {}
        }
      ]
    }
  ]
}